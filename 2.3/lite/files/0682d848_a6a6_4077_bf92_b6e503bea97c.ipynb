{
    "nbformat": 4,
    "nbformat_minor": 5,
    "metadata": {
        "kernelspec": {
            "display_name": "Python",
            "language": "python",
            "name": "python"
        },
        "language_info": {
            "name": "python"
        }
    },
    "cells": [
        {
            "id": "548ff5e5",
            "cell_type": "markdown",
            "source": "<div class='alert alert-warning'>\n\nNumPy's interactive examples are experimental and may not always work as expected, with high load times especially on low-resource platforms, and the version of NumPy might not be in sync with the one you are browsing the documentation for. If you encounter any issues, please report them on the [NumPy issue tracker](https://github.com/numpy/numpy/issues).\n\n</div>",
            "metadata": {}
        },
        {
            "id": "ab38b0cf",
            "cell_type": "code",
            "metadata": {},
            "execution_count": null,
            "source": "import numpy as np\nx = np.array([[[0], [1], [2]]])\nx.shape",
            "outputs": [
                {
                    "output_type": "execute_result",
                    "metadata": {},
                    "data": {
                        "text/plain": "(1, 3, 1)"
                    },
                    "execution_count": null
                }
            ]
        },
        {
            "id": "a262d4fd",
            "cell_type": "code",
            "metadata": {},
            "execution_count": null,
            "source": "np.squeeze(x).shape",
            "outputs": [
                {
                    "output_type": "execute_result",
                    "metadata": {},
                    "data": {
                        "text/plain": "(3,)"
                    },
                    "execution_count": null
                }
            ]
        },
        {
            "id": "285a45a1",
            "cell_type": "code",
            "metadata": {},
            "execution_count": null,
            "source": "np.squeeze(x, axis=0).shape",
            "outputs": [
                {
                    "output_type": "execute_result",
                    "metadata": {},
                    "data": {
                        "text/plain": "(3, 1)"
                    },
                    "execution_count": null
                }
            ]
        },
        {
            "id": "d8987e89",
            "cell_type": "code",
            "metadata": {},
            "execution_count": null,
            "source": "np.squeeze(x, axis=1).shape\n",
            "outputs": [
                {
                    "output_type": "execute_result",
                    "metadata": {},
                    "data": {
                        "text/plain": "Traceback (most recent call last):\nValueError: cannot select an axis to squeeze out which has size\nnot equal to one"
                    },
                    "execution_count": null
                }
            ]
        },
        {
            "id": "8a89fc4a",
            "cell_type": "code",
            "metadata": {},
            "execution_count": null,
            "source": "np.squeeze(x, axis=2).shape",
            "outputs": [
                {
                    "output_type": "execute_result",
                    "metadata": {},
                    "data": {
                        "text/plain": "(1, 3)"
                    },
                    "execution_count": null
                }
            ]
        },
        {
            "id": "c9ca4335",
            "cell_type": "code",
            "metadata": {},
            "execution_count": null,
            "source": "x = np.array([[1234]])\nx.shape",
            "outputs": [
                {
                    "output_type": "execute_result",
                    "metadata": {},
                    "data": {
                        "text/plain": "(1, 1)"
                    },
                    "execution_count": null
                }
            ]
        },
        {
            "id": "f24a859b",
            "cell_type": "code",
            "metadata": {},
            "execution_count": null,
            "source": "np.squeeze(x)",
            "outputs": [
                {
                    "output_type": "execute_result",
                    "metadata": {},
                    "data": {
                        "text/plain": "array(1234)  # 0d array"
                    },
                    "execution_count": null
                }
            ]
        },
        {
            "id": "d2ffef72",
            "cell_type": "code",
            "metadata": {},
            "execution_count": null,
            "source": "np.squeeze(x).shape",
            "outputs": [
                {
                    "output_type": "execute_result",
                    "metadata": {},
                    "data": {
                        "text/plain": "()"
                    },
                    "execution_count": null
                }
            ]
        },
        {
            "id": "b29e9bb1",
            "cell_type": "code",
            "metadata": {},
            "execution_count": null,
            "source": "np.squeeze(x)[()]",
            "outputs": [
                {
                    "output_type": "execute_result",
                    "metadata": {},
                    "data": {
                        "text/plain": "1234"
                    },
                    "execution_count": null
                }
            ]
        }
    ]
}