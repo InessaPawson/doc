{
    "nbformat": 4,
    "nbformat_minor": 5,
    "metadata": {
        "kernelspec": {
            "display_name": "Python",
            "language": "python",
            "name": "python"
        },
        "language_info": {
            "name": "python"
        }
    },
    "cells": [
        {
            "id": "198a370b",
            "cell_type": "markdown",
            "source": "<div class='alert alert-warning'>\n\nNumPy's interactive examples are experimental and may not always work as expected, with high load times especially on low-resource platforms, and the version of NumPy might not be in sync with the one you are browsing the documentation for. If you encounter any issues, please report them on the [NumPy issue tracker](https://github.com/numpy/numpy/issues).\n\n</div>",
            "metadata": {}
        },
        {
            "id": "6545a7fd",
            "cell_type": "code",
            "metadata": {},
            "execution_count": null,
            "source": "import numpy as np",
            "outputs": []
        },
        {
            "id": "11aa100f",
            "cell_type": "markdown",
            "source": "For this sample array\n",
            "metadata": {}
        },
        {
            "id": "e33774d8",
            "cell_type": "code",
            "metadata": {},
            "execution_count": null,
            "source": "a = np.array([[10, 30, 20], [60, 40, 50]])",
            "outputs": []
        },
        {
            "id": "5f41aace",
            "cell_type": "markdown",
            "source": "We can sort either by using sort directly, or argsort and this function\n",
            "metadata": {}
        },
        {
            "id": "23d2bdeb",
            "cell_type": "code",
            "metadata": {},
            "execution_count": null,
            "source": "np.sort(a, axis=1)",
            "outputs": [
                {
                    "output_type": "execute_result",
                    "metadata": {},
                    "data": {
                        "text/plain": "array([[10, 20, 30],\n       [40, 50, 60]])"
                    },
                    "execution_count": null
                }
            ]
        },
        {
            "id": "40a276ad",
            "cell_type": "code",
            "metadata": {},
            "execution_count": null,
            "source": "ai = np.argsort(a, axis=1)\nai",
            "outputs": [
                {
                    "output_type": "execute_result",
                    "metadata": {},
                    "data": {
                        "text/plain": "array([[0, 2, 1],\n       [1, 2, 0]])"
                    },
                    "execution_count": null
                }
            ]
        },
        {
            "id": "50273cdb",
            "cell_type": "code",
            "metadata": {},
            "execution_count": null,
            "source": "np.take_along_axis(a, ai, axis=1)",
            "outputs": [
                {
                    "output_type": "execute_result",
                    "metadata": {},
                    "data": {
                        "text/plain": "array([[10, 20, 30],\n       [40, 50, 60]])"
                    },
                    "execution_count": null
                }
            ]
        },
        {
            "id": "f40fb729",
            "cell_type": "markdown",
            "source": "The same works for max and min, if you maintain the trivial dimension\nwith ``keepdims``:\n",
            "metadata": {}
        },
        {
            "id": "312bebd7",
            "cell_type": "code",
            "metadata": {},
            "execution_count": null,
            "source": "np.max(a, axis=1, keepdims=True)",
            "outputs": [
                {
                    "output_type": "execute_result",
                    "metadata": {},
                    "data": {
                        "text/plain": "array([[30],\n       [60]])"
                    },
                    "execution_count": null
                }
            ]
        },
        {
            "id": "9d9af3bf",
            "cell_type": "code",
            "metadata": {},
            "execution_count": null,
            "source": "ai = np.argmax(a, axis=1, keepdims=True)\nai",
            "outputs": [
                {
                    "output_type": "execute_result",
                    "metadata": {},
                    "data": {
                        "text/plain": "array([[1],\n       [0]])"
                    },
                    "execution_count": null
                }
            ]
        },
        {
            "id": "e188cff6",
            "cell_type": "code",
            "metadata": {},
            "execution_count": null,
            "source": "np.take_along_axis(a, ai, axis=1)",
            "outputs": [
                {
                    "output_type": "execute_result",
                    "metadata": {},
                    "data": {
                        "text/plain": "array([[30],\n       [60]])"
                    },
                    "execution_count": null
                }
            ]
        },
        {
            "id": "4282e1ee",
            "cell_type": "markdown",
            "source": "If we want to get the max and min at the same time, we can stack the\nindices first\n",
            "metadata": {}
        },
        {
            "id": "c9e814a4",
            "cell_type": "code",
            "metadata": {},
            "execution_count": null,
            "source": "ai_min = np.argmin(a, axis=1, keepdims=True)\nai_max = np.argmax(a, axis=1, keepdims=True)\nai = np.concatenate([ai_min, ai_max], axis=1)\nai",
            "outputs": [
                {
                    "output_type": "execute_result",
                    "metadata": {},
                    "data": {
                        "text/plain": "array([[0, 1],\n       [1, 0]])"
                    },
                    "execution_count": null
                }
            ]
        },
        {
            "id": "fcb5e47b",
            "cell_type": "code",
            "metadata": {},
            "execution_count": null,
            "source": "np.take_along_axis(a, ai, axis=1)",
            "outputs": [
                {
                    "output_type": "execute_result",
                    "metadata": {},
                    "data": {
                        "text/plain": "array([[10, 30],\n       [40, 60]])"
                    },
                    "execution_count": null
                }
            ]
        }
    ]
}