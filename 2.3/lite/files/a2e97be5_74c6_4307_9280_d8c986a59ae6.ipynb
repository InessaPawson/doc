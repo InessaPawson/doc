{
    "nbformat": 4,
    "nbformat_minor": 5,
    "metadata": {
        "kernelspec": {
            "display_name": "Python",
            "language": "python",
            "name": "python"
        },
        "language_info": {
            "name": "python"
        }
    },
    "cells": [
        {
            "id": "c9293108",
            "cell_type": "markdown",
            "source": "<div class='alert alert-warning'>\n\nNumPy's interactive examples are experimental and may not always work as expected, with high load times especially on low-resource platforms, and the version of NumPy might not be in sync with the one you are browsing the documentation for. If you encounter any issues, please report them on the [NumPy issue tracker](https://github.com/numpy/numpy/issues).\n\n</div>",
            "metadata": {}
        },
        {
            "id": "755c0536",
            "cell_type": "code",
            "metadata": {},
            "execution_count": null,
            "source": "import numpy as np\nfrom numpy import linalg as LA",
            "outputs": []
        },
        {
            "id": "48df6e85",
            "cell_type": "markdown",
            "source": "(Almost) trivial example with real eigenvalues and eigenvectors.\n",
            "metadata": {}
        },
        {
            "id": "2fbb1afe",
            "cell_type": "code",
            "metadata": {},
            "execution_count": null,
            "source": "eigenvalues, eigenvectors = LA.eig(np.diag((1, 2, 3)))\neigenvalues",
            "outputs": [
                {
                    "output_type": "execute_result",
                    "metadata": {},
                    "data": {
                        "text/plain": "array([1., 2., 3.])"
                    },
                    "execution_count": null
                }
            ]
        },
        {
            "id": "883b17f3",
            "cell_type": "code",
            "metadata": {},
            "execution_count": null,
            "source": "eigenvectors",
            "outputs": [
                {
                    "output_type": "execute_result",
                    "metadata": {},
                    "data": {
                        "text/plain": "array([[1., 0., 0.],\n       [0., 1., 0.],\n       [0., 0., 1.]])"
                    },
                    "execution_count": null
                }
            ]
        },
        {
            "id": "317130ff",
            "cell_type": "markdown",
            "source": "Real matrix possessing complex eigenvalues and eigenvectors;\nnote that the eigenvalues are complex conjugates of each other.\n",
            "metadata": {}
        },
        {
            "id": "3fbfa0f7",
            "cell_type": "code",
            "metadata": {},
            "execution_count": null,
            "source": "eigenvalues, eigenvectors = LA.eig(np.array([[1, -1], [1, 1]]))\neigenvalues",
            "outputs": [
                {
                    "output_type": "execute_result",
                    "metadata": {},
                    "data": {
                        "text/plain": "array([1.+1.j, 1.-1.j])"
                    },
                    "execution_count": null
                }
            ]
        },
        {
            "id": "dd5d7e4b",
            "cell_type": "code",
            "metadata": {},
            "execution_count": null,
            "source": "eigenvectors",
            "outputs": [
                {
                    "output_type": "execute_result",
                    "metadata": {},
                    "data": {
                        "text/plain": "array([[0.70710678+0.j        , 0.70710678-0.j        ],\n       [0.        -0.70710678j, 0.        +0.70710678j]])"
                    },
                    "execution_count": null
                }
            ]
        },
        {
            "id": "652af7a2",
            "cell_type": "markdown",
            "source": "Complex-valued matrix with real eigenvalues (but complex-valued\neigenvectors); note that ``a.conj().T == a``, i.e., `a` is Hermitian.\n",
            "metadata": {}
        },
        {
            "id": "ab3a028f",
            "cell_type": "code",
            "metadata": {},
            "execution_count": null,
            "source": "a = np.array([[1, 1j], [-1j, 1]])\neigenvalues, eigenvectors = LA.eig(a)\neigenvalues",
            "outputs": [
                {
                    "output_type": "execute_result",
                    "metadata": {},
                    "data": {
                        "text/plain": "array([2.+0.j, 0.+0.j])"
                    },
                    "execution_count": null
                }
            ]
        },
        {
            "id": "61287b6d",
            "cell_type": "code",
            "metadata": {},
            "execution_count": null,
            "source": "eigenvectors",
            "outputs": [
                {
                    "output_type": "execute_result",
                    "metadata": {},
                    "data": {
                        "text/plain": "array([[ 0.        +0.70710678j,  0.70710678+0.j        ], # may vary\n       [ 0.70710678+0.j        , -0.        +0.70710678j]])"
                    },
                    "execution_count": null
                }
            ]
        },
        {
            "id": "081c78d2",
            "cell_type": "markdown",
            "source": "Be careful about round-off error!\n",
            "metadata": {}
        },
        {
            "id": "28a7b533",
            "cell_type": "code",
            "metadata": {},
            "execution_count": null,
            "source": "a = np.array([[1 + 1e-9, 0], [0, 1 - 1e-9]])\n# Theor. eigenvalues are 1 +/- 1e-9\neigenvalues, eigenvectors = LA.eig(a)\neigenvalues",
            "outputs": [
                {
                    "output_type": "execute_result",
                    "metadata": {},
                    "data": {
                        "text/plain": "array([1., 1.])"
                    },
                    "execution_count": null
                }
            ]
        },
        {
            "id": "9e37b6fc",
            "cell_type": "code",
            "metadata": {},
            "execution_count": null,
            "source": "eigenvectors",
            "outputs": [
                {
                    "output_type": "execute_result",
                    "metadata": {},
                    "data": {
                        "text/plain": "array([[1., 0.],\n       [0., 1.]])"
                    },
                    "execution_count": null
                }
            ]
        }
    ]
}