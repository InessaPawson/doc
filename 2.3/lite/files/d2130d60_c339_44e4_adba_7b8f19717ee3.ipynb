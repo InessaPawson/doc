{
    "nbformat": 4,
    "nbformat_minor": 5,
    "metadata": {
        "kernelspec": {
            "display_name": "Python",
            "language": "python",
            "name": "python"
        },
        "language_info": {
            "name": "python"
        }
    },
    "cells": [
        {
            "id": "7ccd6e07",
            "cell_type": "markdown",
            "source": "<div class='alert alert-warning'>\n\nNumPy's interactive examples are experimental and may not always work as expected, with high load times especially on low-resource platforms, and the version of NumPy might not be in sync with the one you are browsing the documentation for. If you encounter any issues, please report them on the [NumPy issue tracker](https://github.com/numpy/numpy/issues).\n\n</div>",
            "metadata": {}
        },
        {
            "id": "915c74c4",
            "cell_type": "code",
            "metadata": {},
            "execution_count": null,
            "source": "import numpy as np\nnp.ones(5)",
            "outputs": [
                {
                    "output_type": "execute_result",
                    "metadata": {},
                    "data": {
                        "text/plain": "array([1., 1., 1., 1., 1.])"
                    },
                    "execution_count": null
                }
            ]
        },
        {
            "id": "91812a22",
            "cell_type": "code",
            "metadata": {},
            "execution_count": null,
            "source": "np.ones((5,), dtype=int)",
            "outputs": [
                {
                    "output_type": "execute_result",
                    "metadata": {},
                    "data": {
                        "text/plain": "array([1, 1, 1, 1, 1])"
                    },
                    "execution_count": null
                }
            ]
        },
        {
            "id": "2b11c13b",
            "cell_type": "code",
            "metadata": {},
            "execution_count": null,
            "source": "np.ones((2, 1))",
            "outputs": [
                {
                    "output_type": "execute_result",
                    "metadata": {},
                    "data": {
                        "text/plain": "array([[1.],\n       [1.]])"
                    },
                    "execution_count": null
                }
            ]
        },
        {
            "id": "ce0cdac3",
            "cell_type": "code",
            "metadata": {},
            "execution_count": null,
            "source": "s = (2,2)\nnp.ones(s)",
            "outputs": [
                {
                    "output_type": "execute_result",
                    "metadata": {},
                    "data": {
                        "text/plain": "array([[1.,  1.],\n       [1.,  1.]])"
                    },
                    "execution_count": null
                }
            ]
        }
    ]
}