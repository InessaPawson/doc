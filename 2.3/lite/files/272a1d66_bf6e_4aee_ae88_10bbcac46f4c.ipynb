{
    "nbformat": 4,
    "nbformat_minor": 5,
    "metadata": {
        "kernelspec": {
            "display_name": "Python",
            "language": "python",
            "name": "python"
        },
        "language_info": {
            "name": "python"
        }
    },
    "cells": [
        {
            "id": "f74bebbf",
            "cell_type": "markdown",
            "source": "<div class='alert alert-warning'>\n\nNumPy's interactive examples are experimental and may not always work as expected, with high load times especially on low-resource platforms, and the version of NumPy might not be in sync with the one you are browsing the documentation for. If you encounter any issues, please report them on the [NumPy issue tracker](https://github.com/numpy/numpy/issues).\n\n</div>",
            "metadata": {}
        },
        {
            "id": "f11c7db2",
            "cell_type": "code",
            "metadata": {},
            "execution_count": null,
            "source": "import numpy.ma as ma\nx = ma.array([1, 2, 3], mask=[0, 0, 1], hard_mask=True)\nx",
            "outputs": [
                {
                    "output_type": "execute_result",
                    "metadata": {},
                    "data": {
                        "text/plain": "masked_array(data=[1, 2, --],\n               mask=[False, False,  True],\n         fill_value=999999)"
                    },
                    "execution_count": null
                }
            ]
        },
        {
            "id": "1a120b79",
            "cell_type": "code",
            "metadata": {},
            "execution_count": null,
            "source": "x[-1] = 5\nx",
            "outputs": [
                {
                    "output_type": "execute_result",
                    "metadata": {},
                    "data": {
                        "text/plain": "masked_array(data=[1, 2, --],\n               mask=[False, False,  True],\n         fill_value=999999)"
                    },
                    "execution_count": null
                }
            ]
        },
        {
            "id": "12645b6f",
            "cell_type": "code",
            "metadata": {},
            "execution_count": null,
            "source": "x.soften_mask()",
            "outputs": [
                {
                    "output_type": "execute_result",
                    "metadata": {},
                    "data": {
                        "text/plain": "masked_array(data=[1, 2, --],\n               mask=[False, False,  True],\n         fill_value=999999)"
                    },
                    "execution_count": null
                }
            ]
        },
        {
            "id": "2f0cc4d4",
            "cell_type": "code",
            "metadata": {},
            "execution_count": null,
            "source": "x[-1] = 5\nx",
            "outputs": [
                {
                    "output_type": "execute_result",
                    "metadata": {},
                    "data": {
                        "text/plain": "masked_array(data=[1, 2, 5],\n               mask=[False, False, False],\n         fill_value=999999)"
                    },
                    "execution_count": null
                }
            ]
        },
        {
            "id": "cdea9f6d",
            "cell_type": "code",
            "metadata": {},
            "execution_count": null,
            "source": "x.harden_mask()",
            "outputs": [
                {
                    "output_type": "execute_result",
                    "metadata": {},
                    "data": {
                        "text/plain": "masked_array(data=[1, 2, 5],\n               mask=[False, False, False],\n         fill_value=999999)"
                    },
                    "execution_count": null
                }
            ]
        }
    ]
}