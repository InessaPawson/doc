{
    "nbformat": 4,
    "nbformat_minor": 5,
    "metadata": {
        "kernelspec": {
            "display_name": "Python",
            "language": "python",
            "name": "python"
        },
        "language_info": {
            "name": "python"
        }
    },
    "cells": [
        {
            "id": "98d4eec2",
            "cell_type": "markdown",
            "source": "<div class='alert alert-warning'>\n\nNumPy's interactive examples are experimental and may not always work as expected, with high load times especially on low-resource platforms, and the version of NumPy might not be in sync with the one you are browsing the documentation for. If you encounter any issues, please report them on the [NumPy issue tracker](https://github.com/numpy/numpy/issues).\n\n</div>",
            "metadata": {}
        },
        {
            "id": "9074c1f2",
            "cell_type": "markdown",
            "source": "Starting with a Fortran-contiguous array:\n",
            "metadata": {}
        },
        {
            "id": "a638c1f0",
            "cell_type": "code",
            "metadata": {},
            "execution_count": null,
            "source": "import numpy as np\nx = np.ones((2, 3), order='F')\nx.flags['F_CONTIGUOUS']",
            "outputs": [
                {
                    "output_type": "execute_result",
                    "metadata": {},
                    "data": {
                        "text/plain": "True"
                    },
                    "execution_count": null
                }
            ]
        },
        {
            "id": "2520e10b",
            "cell_type": "markdown",
            "source": "Calling ``ascontiguousarray`` makes a C-contiguous copy:\n",
            "metadata": {}
        },
        {
            "id": "18fe9d50",
            "cell_type": "code",
            "metadata": {},
            "execution_count": null,
            "source": "y = np.ascontiguousarray(x)\ny.flags['C_CONTIGUOUS']",
            "outputs": [
                {
                    "output_type": "execute_result",
                    "metadata": {},
                    "data": {
                        "text/plain": "True"
                    },
                    "execution_count": null
                }
            ]
        },
        {
            "id": "4a3be2f6",
            "cell_type": "code",
            "metadata": {},
            "execution_count": null,
            "source": "np.may_share_memory(x, y)",
            "outputs": [
                {
                    "output_type": "execute_result",
                    "metadata": {},
                    "data": {
                        "text/plain": "False"
                    },
                    "execution_count": null
                }
            ]
        },
        {
            "id": "b884735f",
            "cell_type": "markdown",
            "source": "Now, starting with a C-contiguous array:\n",
            "metadata": {}
        },
        {
            "id": "1fe1c8c5",
            "cell_type": "code",
            "metadata": {},
            "execution_count": null,
            "source": "x = np.ones((2, 3), order='C')\nx.flags['C_CONTIGUOUS']",
            "outputs": [
                {
                    "output_type": "execute_result",
                    "metadata": {},
                    "data": {
                        "text/plain": "True"
                    },
                    "execution_count": null
                }
            ]
        },
        {
            "id": "98058b2a",
            "cell_type": "markdown",
            "source": "Then, calling ``ascontiguousarray`` returns the same object:\n",
            "metadata": {}
        },
        {
            "id": "93ccad58",
            "cell_type": "code",
            "metadata": {},
            "execution_count": null,
            "source": "y = np.ascontiguousarray(x)\nx is y",
            "outputs": [
                {
                    "output_type": "execute_result",
                    "metadata": {},
                    "data": {
                        "text/plain": "True"
                    },
                    "execution_count": null
                }
            ]
        },
        {
            "id": "b5b55481",
            "cell_type": "markdown",
            "source": "Note: This function returns an array with at least one-dimension (1-d)\nso it will not preserve 0-d arrays.",
            "metadata": {}
        }
    ]
}