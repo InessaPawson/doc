{
    "nbformat": 4,
    "nbformat_minor": 5,
    "metadata": {
        "kernelspec": {
            "display_name": "Python",
            "language": "python",
            "name": "python"
        },
        "language_info": {
            "name": "python"
        }
    },
    "cells": [
        {
            "id": "199f9862",
            "cell_type": "markdown",
            "source": "<div class='alert alert-warning'>\n\nNumPy's interactive examples are experimental and may not always work as expected, with high load times especially on low-resource platforms, and the version of NumPy might not be in sync with the one you are browsing the documentation for. If you encounter any issues, please report them on the [NumPy issue tracker](https://github.com/numpy/numpy/issues).\n\n</div>",
            "metadata": {}
        },
        {
            "id": "7af72b9d",
            "cell_type": "markdown",
            "source": "From Dalgaard page 83 [1], suppose the daily energy intake for 11\nwomen in kilojoules (kJ) is:\n",
            "metadata": {}
        },
        {
            "id": "9c549b66",
            "cell_type": "code",
            "metadata": {},
            "execution_count": null,
            "source": "intake = np.array([5260., 5470, 5640, 6180, 6390, 6515, 6805, 7515, \\\n                   7515, 8230, 8770])",
            "outputs": []
        },
        {
            "id": "fa28968e",
            "cell_type": "markdown",
            "source": "Does their energy intake deviate systematically from the recommended\nvalue of 7725 kJ? Our null hypothesis will be the absence of deviation,\nand the alternate hypothesis will be the presence of an effect that could be\neither positive or negative, hence making our test 2-tailed. \n\nBecause we are estimating the mean and we have N=11 values in our sample,\nwe have N-1=10 degrees of freedom. We set our significance level to 95% and \ncompute the t statistic using the empirical mean and empirical standard \ndeviation of our intake. We use a ddof of 1 to base the computation of our \nempirical standard deviation on an unbiased estimate of the variance (note:\nthe final estimate is not unbiased due to the concave nature of the square \nroot).\n",
            "metadata": {}
        },
        {
            "id": "0fd75d3f",
            "cell_type": "code",
            "metadata": {},
            "execution_count": null,
            "source": "np.mean(intake)",
            "outputs": [
                {
                    "output_type": "execute_result",
                    "metadata": {},
                    "data": {
                        "text/plain": "6753.636363636364"
                    },
                    "execution_count": null
                }
            ]
        },
        {
            "id": "27a0b87e",
            "cell_type": "code",
            "metadata": {},
            "execution_count": null,
            "source": "intake.std(ddof=1)",
            "outputs": [
                {
                    "output_type": "execute_result",
                    "metadata": {},
                    "data": {
                        "text/plain": "1142.1232221373727"
                    },
                    "execution_count": null
                }
            ]
        },
        {
            "id": "2c7ed71d",
            "cell_type": "code",
            "metadata": {},
            "execution_count": null,
            "source": "t = (np.mean(intake)-7725)/(intake.std(ddof=1)/np.sqrt(len(intake)))\nt",
            "outputs": [
                {
                    "output_type": "execute_result",
                    "metadata": {},
                    "data": {
                        "text/plain": "-2.8207540608310198"
                    },
                    "execution_count": null
                }
            ]
        },
        {
            "id": "d09f72a9",
            "cell_type": "markdown",
            "source": "We draw 1000000 samples from Student's t distribution with the adequate\ndegrees of freedom.\n",
            "metadata": {}
        },
        {
            "id": "fdb8d025",
            "cell_type": "code",
            "metadata": {},
            "execution_count": null,
            "source": "import matplotlib.pyplot as plt\ns = np.random.standard_t(10, size=1000000)\nh = plt.hist(s, bins=100, density=True)",
            "outputs": []
        },
        {
            "id": "919d8f17",
            "cell_type": "markdown",
            "source": "Does our t statistic land in one of the two critical regions found at \nboth tails of the distribution?\n",
            "metadata": {}
        },
        {
            "id": "b2394983",
            "cell_type": "code",
            "metadata": {},
            "execution_count": null,
            "source": "np.sum(np.abs(t) < np.abs(s)) / float(len(s))",
            "outputs": [
                {
                    "output_type": "execute_result",
                    "metadata": {},
                    "data": {
                        "text/plain": "0.018318  #random < 0.05, statistic is in critical region"
                    },
                    "execution_count": null
                }
            ]
        },
        {
            "id": "2bb84eb7",
            "cell_type": "markdown",
            "source": "The probability value for this 2-tailed test is about 1.83%, which is \nlower than the 5% pre-determined significance threshold. \n\nTherefore, the probability of observing values as extreme as our intake\nconditionally on the null hypothesis being true is too low, and we reject \nthe null hypothesis of no deviation. \n",
            "metadata": {}
        }
    ]
}