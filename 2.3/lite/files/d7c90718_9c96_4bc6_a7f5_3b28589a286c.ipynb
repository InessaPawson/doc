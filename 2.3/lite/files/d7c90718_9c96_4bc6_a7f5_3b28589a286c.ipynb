{
    "nbformat": 4,
    "nbformat_minor": 5,
    "metadata": {
        "kernelspec": {
            "display_name": "Python",
            "language": "python",
            "name": "python"
        },
        "language_info": {
            "name": "python"
        }
    },
    "cells": [
        {
            "id": "3b94ad75",
            "cell_type": "markdown",
            "source": "<div class='alert alert-warning'>\n\nNumPy's interactive examples are experimental and may not always work as expected, with high load times especially on low-resource platforms, and the version of NumPy might not be in sync with the one you are browsing the documentation for. If you encounter any issues, please report them on the [NumPy issue tracker](https://github.com/numpy/numpy/issues).\n\n</div>",
            "metadata": {}
        },
        {
            "id": "aa3df703",
            "cell_type": "code",
            "metadata": {},
            "execution_count": null,
            "source": "import numpy as np\na = np.array([[1, 2], [3, 4]])\nnp.std(a)",
            "outputs": [
                {
                    "output_type": "execute_result",
                    "metadata": {},
                    "data": {
                        "text/plain": "1.1180339887498949 # may vary"
                    },
                    "execution_count": null
                }
            ]
        },
        {
            "id": "5d9d17e5",
            "cell_type": "code",
            "metadata": {},
            "execution_count": null,
            "source": "np.std(a, axis=0)",
            "outputs": [
                {
                    "output_type": "execute_result",
                    "metadata": {},
                    "data": {
                        "text/plain": "array([1.,  1.])"
                    },
                    "execution_count": null
                }
            ]
        },
        {
            "id": "feed0eea",
            "cell_type": "code",
            "metadata": {},
            "execution_count": null,
            "source": "np.std(a, axis=1)",
            "outputs": [
                {
                    "output_type": "execute_result",
                    "metadata": {},
                    "data": {
                        "text/plain": "array([0.5,  0.5])"
                    },
                    "execution_count": null
                }
            ]
        },
        {
            "id": "6fb0c912",
            "cell_type": "markdown",
            "source": "In single precision, std() can be inaccurate:\n",
            "metadata": {}
        },
        {
            "id": "6871438c",
            "cell_type": "code",
            "metadata": {},
            "execution_count": null,
            "source": "a = np.zeros((2, 512*512), dtype=np.float32)\na[0, :] = 1.0\na[1, :] = 0.1\nnp.std(a)",
            "outputs": [
                {
                    "output_type": "execute_result",
                    "metadata": {},
                    "data": {
                        "text/plain": "np.float32(0.45000005)"
                    },
                    "execution_count": null
                }
            ]
        },
        {
            "id": "d215c2cf",
            "cell_type": "markdown",
            "source": "Computing the standard deviation in float64 is more accurate:\n",
            "metadata": {}
        },
        {
            "id": "59649b35",
            "cell_type": "code",
            "metadata": {},
            "execution_count": null,
            "source": "np.std(a, dtype=np.float64)",
            "outputs": [
                {
                    "output_type": "execute_result",
                    "metadata": {},
                    "data": {
                        "text/plain": "0.44999999925494177 # may vary"
                    },
                    "execution_count": null
                }
            ]
        },
        {
            "id": "6aab8e6b",
            "cell_type": "markdown",
            "source": "Specifying a where argument:\n",
            "metadata": {}
        },
        {
            "id": "388b344e",
            "cell_type": "code",
            "metadata": {},
            "execution_count": null,
            "source": "a = np.array([[14, 8, 11, 10], [7, 9, 10, 11], [10, 15, 5, 10]])\nnp.std(a)",
            "outputs": [
                {
                    "output_type": "execute_result",
                    "metadata": {},
                    "data": {
                        "text/plain": "2.614064523559687 # may vary"
                    },
                    "execution_count": null
                }
            ]
        },
        {
            "id": "2da63f68",
            "cell_type": "code",
            "metadata": {},
            "execution_count": null,
            "source": "np.std(a, where=[[True], [True], [False]])",
            "outputs": [
                {
                    "output_type": "execute_result",
                    "metadata": {},
                    "data": {
                        "text/plain": "2.0"
                    },
                    "execution_count": null
                }
            ]
        },
        {
            "id": "2f11826c",
            "cell_type": "markdown",
            "source": "Using the mean keyword to save computation time:\n",
            "metadata": {}
        },
        {
            "id": "78cbba5f",
            "cell_type": "code",
            "metadata": {},
            "execution_count": null,
            "source": "import numpy as np\nfrom timeit import timeit\na = np.array([[14, 8, 11, 10], [7, 9, 10, 11], [10, 15, 5, 10]])\nmean = np.mean(a, axis=1, keepdims=True)\n\ng = globals()\nn = 10000\nt1 = timeit(\"std = np.std(a, axis=1, mean=mean)\", globals=g, number=n)\nt2 = timeit(\"std = np.std(a, axis=1)\", globals=g, number=n)\nprint(f'Percentage execution time saved {100*(t2-t1)/t2:.0f}%')",
            "outputs": [
                {
                    "output_type": "execute_result",
                    "metadata": {},
                    "data": {
                        "text/plain": "#doctest: +SKIP\nPercentage execution time saved 30%"
                    },
                    "execution_count": null
                }
            ]
        }
    ]
}