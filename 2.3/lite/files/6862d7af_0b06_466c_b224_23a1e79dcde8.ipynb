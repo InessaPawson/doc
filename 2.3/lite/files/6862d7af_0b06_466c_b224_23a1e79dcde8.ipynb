{
    "nbformat": 4,
    "nbformat_minor": 5,
    "metadata": {
        "kernelspec": {
            "display_name": "Python",
            "language": "python",
            "name": "python"
        },
        "language_info": {
            "name": "python"
        }
    },
    "cells": [
        {
            "id": "ac7b4008",
            "cell_type": "markdown",
            "source": "<div class='alert alert-warning'>\n\nNumPy's interactive examples are experimental and may not always work as expected, with high load times especially on low-resource platforms, and the version of NumPy might not be in sync with the one you are browsing the documentation for. If you encounter any issues, please report them on the [NumPy issue tracker](https://github.com/numpy/numpy/issues).\n\n</div>",
            "metadata": {}
        },
        {
            "id": "597bb745",
            "cell_type": "code",
            "metadata": {},
            "execution_count": null,
            "source": "import numpy as np",
            "outputs": []
        },
        {
            "id": "48e412a2",
            "cell_type": "code",
            "metadata": {},
            "execution_count": null,
            "source": "def square(a, out=None):\n    it = np.nditer([a, out],\n            flags = ['external_loop', 'buffered'],\n            op_flags = [['readonly'],\n                        ['writeonly', 'allocate', 'no_broadcast']])\n    with it:\n        for x, y in it:\n            y[...] = x*x\n        return it.operands[1]\n",
            "outputs": []
        },
        {
            "id": "e888476d",
            "cell_type": "code",
            "metadata": {},
            "execution_count": null,
            "source": "square([1,2,3])",
            "outputs": [
                {
                    "output_type": "execute_result",
                    "metadata": {},
                    "data": {
                        "text/plain": "array([1, 4, 9])"
                    },
                    "execution_count": null
                }
            ]
        },
        {
            "id": "b388e6b8",
            "cell_type": "code",
            "metadata": {},
            "execution_count": null,
            "source": "b = np.zeros((3,))\nsquare([1,2,3], out=b)",
            "outputs": [
                {
                    "output_type": "execute_result",
                    "metadata": {},
                    "data": {
                        "text/plain": "array([1.,  4.,  9.])"
                    },
                    "execution_count": null
                }
            ]
        },
        {
            "id": "3b337261",
            "cell_type": "code",
            "metadata": {},
            "execution_count": null,
            "source": "b",
            "outputs": [
                {
                    "output_type": "execute_result",
                    "metadata": {},
                    "data": {
                        "text/plain": "array([1.,  4.,  9.])"
                    },
                    "execution_count": null
                }
            ]
        },
        {
            "id": "86dd9971",
            "cell_type": "code",
            "metadata": {},
            "execution_count": null,
            "source": "square(np.arange(6).reshape(2,3), out=b)",
            "outputs": [
                {
                    "output_type": "execute_result",
                    "metadata": {},
                    "data": {
                        "text/plain": "Traceback (most recent call last):\n  ...\nValueError: non-broadcastable output operand with shape (3,) doesn't\nmatch the broadcast shape (2,3)"
                    },
                    "execution_count": null
                }
            ]
        }
    ]
}