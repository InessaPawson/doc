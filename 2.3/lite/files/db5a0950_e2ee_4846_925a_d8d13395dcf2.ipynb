{
    "nbformat": 4,
    "nbformat_minor": 5,
    "metadata": {
        "kernelspec": {
            "display_name": "Python",
            "language": "python",
            "name": "python"
        },
        "language_info": {
            "name": "python"
        }
    },
    "cells": [
        {
            "id": "1f22535f",
            "cell_type": "markdown",
            "source": "<div class='alert alert-warning'>\n\nNumPy's interactive examples are experimental and may not always work as expected, with high load times especially on low-resource platforms, and the version of NumPy might not be in sync with the one you are browsing the documentation for. If you encounter any issues, please report them on the [NumPy issue tracker](https://github.com/numpy/numpy/issues).\n\n</div>",
            "metadata": {}
        },
        {
            "id": "c1459165",
            "cell_type": "code",
            "metadata": {},
            "execution_count": null,
            "source": "a = np.arange(4).reshape(2, 2); a",
            "outputs": [
                {
                    "output_type": "execute_result",
                    "metadata": {},
                    "data": {
                        "text/plain": "array([[0, 1],\n       [2, 3]])"
                    },
                    "execution_count": null
                }
            ]
        },
        {
            "id": "e3043371",
            "cell_type": "code",
            "metadata": {},
            "execution_count": null,
            "source": "np.linalg.diagonal(a)",
            "outputs": [
                {
                    "output_type": "execute_result",
                    "metadata": {},
                    "data": {
                        "text/plain": "array([0, 3])"
                    },
                    "execution_count": null
                }
            ]
        },
        {
            "id": "a07565fe",
            "cell_type": "markdown",
            "source": "A 3-D example:\n",
            "metadata": {}
        },
        {
            "id": "506717e7",
            "cell_type": "code",
            "metadata": {},
            "execution_count": null,
            "source": "a = np.arange(8).reshape(2, 2, 2); a",
            "outputs": [
                {
                    "output_type": "execute_result",
                    "metadata": {},
                    "data": {
                        "text/plain": "array([[[0, 1],\n        [2, 3]],\n       [[4, 5],\n        [6, 7]]])"
                    },
                    "execution_count": null
                }
            ]
        },
        {
            "id": "1eed00a8",
            "cell_type": "code",
            "metadata": {},
            "execution_count": null,
            "source": "np.linalg.diagonal(a)",
            "outputs": [
                {
                    "output_type": "execute_result",
                    "metadata": {},
                    "data": {
                        "text/plain": "array([[0, 3],\n       [4, 7]])"
                    },
                    "execution_count": null
                }
            ]
        },
        {
            "id": "d085c169",
            "cell_type": "markdown",
            "source": "Diagonals adjacent to the main diagonal can be obtained by using the\n`offset` argument:\n",
            "metadata": {}
        },
        {
            "id": "65e72e1d",
            "cell_type": "code",
            "metadata": {},
            "execution_count": null,
            "source": "a = np.arange(9).reshape(3, 3)\na",
            "outputs": [
                {
                    "output_type": "execute_result",
                    "metadata": {},
                    "data": {
                        "text/plain": "array([[0, 1, 2],\n       [3, 4, 5],\n       [6, 7, 8]])"
                    },
                    "execution_count": null
                }
            ]
        },
        {
            "id": "906b60e5",
            "cell_type": "code",
            "metadata": {},
            "execution_count": null,
            "source": "np.linalg.diagonal(a, offset=1)  # First superdiagonal",
            "outputs": [
                {
                    "output_type": "execute_result",
                    "metadata": {},
                    "data": {
                        "text/plain": "array([1, 5])"
                    },
                    "execution_count": null
                }
            ]
        },
        {
            "id": "44cb355b",
            "cell_type": "code",
            "metadata": {},
            "execution_count": null,
            "source": "np.linalg.diagonal(a, offset=2)  # Second superdiagonal",
            "outputs": [
                {
                    "output_type": "execute_result",
                    "metadata": {},
                    "data": {
                        "text/plain": "array([2])"
                    },
                    "execution_count": null
                }
            ]
        },
        {
            "id": "cbe7c334",
            "cell_type": "code",
            "metadata": {},
            "execution_count": null,
            "source": "np.linalg.diagonal(a, offset=-1)  # First subdiagonal",
            "outputs": [
                {
                    "output_type": "execute_result",
                    "metadata": {},
                    "data": {
                        "text/plain": "array([3, 7])"
                    },
                    "execution_count": null
                }
            ]
        },
        {
            "id": "72bc3e4f",
            "cell_type": "code",
            "metadata": {},
            "execution_count": null,
            "source": "np.linalg.diagonal(a, offset=-2)  # Second subdiagonal",
            "outputs": [
                {
                    "output_type": "execute_result",
                    "metadata": {},
                    "data": {
                        "text/plain": "array([6])"
                    },
                    "execution_count": null
                }
            ]
        },
        {
            "id": "00dba600",
            "cell_type": "markdown",
            "source": "The anti-diagonal can be obtained by reversing the order of elements\nusing either `numpy.flipud` or `numpy.fliplr`.\n",
            "metadata": {}
        },
        {
            "id": "7d913453",
            "cell_type": "code",
            "metadata": {},
            "execution_count": null,
            "source": "a = np.arange(9).reshape(3, 3)\na",
            "outputs": [
                {
                    "output_type": "execute_result",
                    "metadata": {},
                    "data": {
                        "text/plain": "array([[0, 1, 2],\n       [3, 4, 5],\n       [6, 7, 8]])"
                    },
                    "execution_count": null
                }
            ]
        },
        {
            "id": "a8a6bcbe",
            "cell_type": "code",
            "metadata": {},
            "execution_count": null,
            "source": "np.linalg.diagonal(np.fliplr(a))  # Horizontal flip",
            "outputs": [
                {
                    "output_type": "execute_result",
                    "metadata": {},
                    "data": {
                        "text/plain": "array([2, 4, 6])"
                    },
                    "execution_count": null
                }
            ]
        },
        {
            "id": "7b04bbd4",
            "cell_type": "code",
            "metadata": {},
            "execution_count": null,
            "source": "np.linalg.diagonal(np.flipud(a))  # Vertical flip",
            "outputs": [
                {
                    "output_type": "execute_result",
                    "metadata": {},
                    "data": {
                        "text/plain": "array([6, 4, 2])"
                    },
                    "execution_count": null
                }
            ]
        },
        {
            "id": "1126413b",
            "cell_type": "markdown",
            "source": "Note that the order in which the diagonal is retrieved varies depending\non the flip function.",
            "metadata": {}
        }
    ]
}