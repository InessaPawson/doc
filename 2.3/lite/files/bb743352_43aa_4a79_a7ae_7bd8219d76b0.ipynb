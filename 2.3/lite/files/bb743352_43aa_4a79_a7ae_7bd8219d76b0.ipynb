{
    "nbformat": 4,
    "nbformat_minor": 5,
    "metadata": {
        "kernelspec": {
            "display_name": "Python",
            "language": "python",
            "name": "python"
        },
        "language_info": {
            "name": "python"
        }
    },
    "cells": [
        {
            "id": "726ac31d",
            "cell_type": "markdown",
            "source": "<div class='alert alert-warning'>\n\nNumPy's interactive examples are experimental and may not always work as expected, with high load times especially on low-resource platforms, and the version of NumPy might not be in sync with the one you are browsing the documentation for. If you encounter any issues, please report them on the [NumPy issue tracker](https://github.com/numpy/numpy/issues).\n\n</div>",
            "metadata": {}
        },
        {
            "id": "628a64fc",
            "cell_type": "code",
            "metadata": {},
            "execution_count": null,
            "source": "import numpy as np\na = np.array([[np.nan, 4], [2, 3]])\nnp.argmin(a)",
            "outputs": [
                {
                    "output_type": "execute_result",
                    "metadata": {},
                    "data": {
                        "text/plain": "0"
                    },
                    "execution_count": null
                }
            ]
        },
        {
            "id": "488f4608",
            "cell_type": "code",
            "metadata": {},
            "execution_count": null,
            "source": "np.nanargmin(a)",
            "outputs": [
                {
                    "output_type": "execute_result",
                    "metadata": {},
                    "data": {
                        "text/plain": "2"
                    },
                    "execution_count": null
                }
            ]
        },
        {
            "id": "0ea7c035",
            "cell_type": "code",
            "metadata": {},
            "execution_count": null,
            "source": "np.nanargmin(a, axis=0)",
            "outputs": [
                {
                    "output_type": "execute_result",
                    "metadata": {},
                    "data": {
                        "text/plain": "array([1, 1])"
                    },
                    "execution_count": null
                }
            ]
        },
        {
            "id": "830b96dc",
            "cell_type": "code",
            "metadata": {},
            "execution_count": null,
            "source": "np.nanargmin(a, axis=1)",
            "outputs": [
                {
                    "output_type": "execute_result",
                    "metadata": {},
                    "data": {
                        "text/plain": "array([1, 0])"
                    },
                    "execution_count": null
                }
            ]
        }
    ]
}