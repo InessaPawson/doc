{
    "nbformat": 4,
    "nbformat_minor": 5,
    "metadata": {
        "kernelspec": {
            "display_name": "Python",
            "language": "python",
            "name": "python"
        },
        "language_info": {
            "name": "python"
        }
    },
    "cells": [
        {
            "id": "21d84a9e",
            "cell_type": "markdown",
            "source": "<div class='alert alert-warning'>\n\nNumPy's interactive examples are experimental and may not always work as expected, with high load times especially on low-resource platforms, and the version of NumPy might not be in sync with the one you are browsing the documentation for. If you encounter any issues, please report them on the [NumPy issue tracker](https://github.com/numpy/numpy/issues).\n\n</div>",
            "metadata": {}
        },
        {
            "id": "830efcf4",
            "cell_type": "code",
            "metadata": {},
            "execution_count": null,
            "source": "import numpy as np\ngrid = np.indices((2, 3))\ngrid.shape",
            "outputs": [
                {
                    "output_type": "execute_result",
                    "metadata": {},
                    "data": {
                        "text/plain": "(2, 2, 3)"
                    },
                    "execution_count": null
                }
            ]
        },
        {
            "id": "202f7226",
            "cell_type": "code",
            "metadata": {},
            "execution_count": null,
            "source": "grid[0]        # row indices",
            "outputs": [
                {
                    "output_type": "execute_result",
                    "metadata": {},
                    "data": {
                        "text/plain": "array([[0, 0, 0],\n       [1, 1, 1]])"
                    },
                    "execution_count": null
                }
            ]
        },
        {
            "id": "27f7b49d",
            "cell_type": "code",
            "metadata": {},
            "execution_count": null,
            "source": "grid[1]        # column indices",
            "outputs": [
                {
                    "output_type": "execute_result",
                    "metadata": {},
                    "data": {
                        "text/plain": "array([[0, 1, 2],\n       [0, 1, 2]])"
                    },
                    "execution_count": null
                }
            ]
        },
        {
            "id": "e1af1548",
            "cell_type": "markdown",
            "source": "The indices can be used as an index into an array.\n",
            "metadata": {}
        },
        {
            "id": "b09d92af",
            "cell_type": "code",
            "metadata": {},
            "execution_count": null,
            "source": "x = np.arange(20).reshape(5, 4)\nrow, col = np.indices((2, 3))\nx[row, col]",
            "outputs": [
                {
                    "output_type": "execute_result",
                    "metadata": {},
                    "data": {
                        "text/plain": "array([[0, 1, 2],\n       [4, 5, 6]])"
                    },
                    "execution_count": null
                }
            ]
        },
        {
            "id": "1cc364a8",
            "cell_type": "markdown",
            "source": "Note that it would be more straightforward in the above example to\nextract the required elements directly with ``x[:2, :3]``.\n\nIf sparse is set to true, the grid will be returned in a sparse\nrepresentation.\n",
            "metadata": {}
        },
        {
            "id": "1c715c2d",
            "cell_type": "code",
            "metadata": {},
            "execution_count": null,
            "source": "i, j = np.indices((2, 3), sparse=True)\ni.shape",
            "outputs": [
                {
                    "output_type": "execute_result",
                    "metadata": {},
                    "data": {
                        "text/plain": "(2, 1)"
                    },
                    "execution_count": null
                }
            ]
        },
        {
            "id": "ee7e1c3e",
            "cell_type": "code",
            "metadata": {},
            "execution_count": null,
            "source": "j.shape",
            "outputs": [
                {
                    "output_type": "execute_result",
                    "metadata": {},
                    "data": {
                        "text/plain": "(1, 3)"
                    },
                    "execution_count": null
                }
            ]
        },
        {
            "id": "6fa3e781",
            "cell_type": "code",
            "metadata": {},
            "execution_count": null,
            "source": "i        # row indices",
            "outputs": [
                {
                    "output_type": "execute_result",
                    "metadata": {},
                    "data": {
                        "text/plain": "array([[0],\n       [1]])"
                    },
                    "execution_count": null
                }
            ]
        },
        {
            "id": "792ed4cc",
            "cell_type": "code",
            "metadata": {},
            "execution_count": null,
            "source": "j        # column indices",
            "outputs": [
                {
                    "output_type": "execute_result",
                    "metadata": {},
                    "data": {
                        "text/plain": "array([[0, 1, 2]])"
                    },
                    "execution_count": null
                }
            ]
        }
    ]
}