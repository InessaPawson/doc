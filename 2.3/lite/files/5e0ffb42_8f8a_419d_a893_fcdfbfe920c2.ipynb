{
    "nbformat": 4,
    "nbformat_minor": 5,
    "metadata": {
        "kernelspec": {
            "display_name": "Python",
            "language": "python",
            "name": "python"
        },
        "language_info": {
            "name": "python"
        }
    },
    "cells": [
        {
            "id": "0748e6ae",
            "cell_type": "markdown",
            "source": "<div class='alert alert-warning'>\n\nNumPy's interactive examples are experimental and may not always work as expected, with high load times especially on low-resource platforms, and the version of NumPy might not be in sync with the one you are browsing the documentation for. If you encounter any issues, please report them on the [NumPy issue tracker](https://github.com/numpy/numpy/issues).\n\n</div>",
            "metadata": {}
        },
        {
            "id": "27fe8d09",
            "cell_type": "markdown",
            "source": "The derivative of the polynomial $x^3 + x^2 + x^1 + 1$ is:\n",
            "metadata": {}
        },
        {
            "id": "ffc0dd9a",
            "cell_type": "code",
            "metadata": {},
            "execution_count": null,
            "source": "import numpy as np",
            "outputs": []
        },
        {
            "id": "dc9c1bf4",
            "cell_type": "code",
            "metadata": {},
            "execution_count": null,
            "source": "p = np.poly1d([1,1,1,1])\np2 = np.polyder(p)\np2",
            "outputs": [
                {
                    "output_type": "execute_result",
                    "metadata": {},
                    "data": {
                        "text/plain": "poly1d([3, 2, 1])"
                    },
                    "execution_count": null
                }
            ]
        },
        {
            "id": "b03e57d0",
            "cell_type": "markdown",
            "source": "which evaluates to:\n",
            "metadata": {}
        },
        {
            "id": "e9703b10",
            "cell_type": "code",
            "metadata": {},
            "execution_count": null,
            "source": "p2(2.)",
            "outputs": [
                {
                    "output_type": "execute_result",
                    "metadata": {},
                    "data": {
                        "text/plain": "17.0"
                    },
                    "execution_count": null
                }
            ]
        },
        {
            "id": "f0a67d8b",
            "cell_type": "markdown",
            "source": "We can verify this, approximating the derivative with\n``(f(x + h) - f(x))/h``:\n",
            "metadata": {}
        },
        {
            "id": "7be8d0d6",
            "cell_type": "code",
            "metadata": {},
            "execution_count": null,
            "source": "(p(2. + 0.001) - p(2.)) / 0.001",
            "outputs": [
                {
                    "output_type": "execute_result",
                    "metadata": {},
                    "data": {
                        "text/plain": "17.007000999997857"
                    },
                    "execution_count": null
                }
            ]
        },
        {
            "id": "4067b405",
            "cell_type": "markdown",
            "source": "The fourth-order derivative of a 3rd-order polynomial is zero:\n",
            "metadata": {}
        },
        {
            "id": "a963bcfb",
            "cell_type": "code",
            "metadata": {},
            "execution_count": null,
            "source": "np.polyder(p, 2)",
            "outputs": [
                {
                    "output_type": "execute_result",
                    "metadata": {},
                    "data": {
                        "text/plain": "poly1d([6, 2])"
                    },
                    "execution_count": null
                }
            ]
        },
        {
            "id": "212f4224",
            "cell_type": "code",
            "metadata": {},
            "execution_count": null,
            "source": "np.polyder(p, 3)",
            "outputs": [
                {
                    "output_type": "execute_result",
                    "metadata": {},
                    "data": {
                        "text/plain": "poly1d([6])"
                    },
                    "execution_count": null
                }
            ]
        },
        {
            "id": "58bba99a",
            "cell_type": "code",
            "metadata": {},
            "execution_count": null,
            "source": "np.polyder(p, 4)",
            "outputs": [
                {
                    "output_type": "execute_result",
                    "metadata": {},
                    "data": {
                        "text/plain": "poly1d([0])"
                    },
                    "execution_count": null
                }
            ]
        }
    ]
}