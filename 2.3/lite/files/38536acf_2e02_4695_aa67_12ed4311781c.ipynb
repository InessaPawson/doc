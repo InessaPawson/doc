{
    "nbformat": 4,
    "nbformat_minor": 5,
    "metadata": {
        "kernelspec": {
            "display_name": "Python",
            "language": "python",
            "name": "python"
        },
        "language_info": {
            "name": "python"
        }
    },
    "cells": [
        {
            "id": "9389d036",
            "cell_type": "markdown",
            "source": "<div class='alert alert-warning'>\n\nNumPy's interactive examples are experimental and may not always work as expected, with high load times especially on low-resource platforms, and the version of NumPy might not be in sync with the one you are browsing the documentation for. If you encounter any issues, please report them on the [NumPy issue tracker](https://github.com/numpy/numpy/issues).\n\n</div>",
            "metadata": {}
        },
        {
            "id": "e3508ddd",
            "cell_type": "code",
            "metadata": {},
            "execution_count": null,
            "source": "import numpy as np\nfrom numpy import linalg as LA\na = np.array([[1, 0, -1], [0, 1, 0], [1, 0, 1]])\na",
            "outputs": [
                {
                    "output_type": "execute_result",
                    "metadata": {},
                    "data": {
                        "text/plain": "array([[ 1,  0, -1],\n       [ 0,  1,  0],\n       [ 1,  0,  1]])"
                    },
                    "execution_count": null
                }
            ]
        },
        {
            "id": "20c68ab2",
            "cell_type": "code",
            "metadata": {},
            "execution_count": null,
            "source": "LA.cond(a)",
            "outputs": [
                {
                    "output_type": "execute_result",
                    "metadata": {},
                    "data": {
                        "text/plain": "1.4142135623730951"
                    },
                    "execution_count": null
                }
            ]
        },
        {
            "id": "99a233cd",
            "cell_type": "code",
            "metadata": {},
            "execution_count": null,
            "source": "LA.cond(a, 'fro')",
            "outputs": [
                {
                    "output_type": "execute_result",
                    "metadata": {},
                    "data": {
                        "text/plain": "3.1622776601683795"
                    },
                    "execution_count": null
                }
            ]
        },
        {
            "id": "cc97cf7f",
            "cell_type": "code",
            "metadata": {},
            "execution_count": null,
            "source": "LA.cond(a, np.inf)",
            "outputs": [
                {
                    "output_type": "execute_result",
                    "metadata": {},
                    "data": {
                        "text/plain": "2.0"
                    },
                    "execution_count": null
                }
            ]
        },
        {
            "id": "73d65655",
            "cell_type": "code",
            "metadata": {},
            "execution_count": null,
            "source": "LA.cond(a, -np.inf)",
            "outputs": [
                {
                    "output_type": "execute_result",
                    "metadata": {},
                    "data": {
                        "text/plain": "1.0"
                    },
                    "execution_count": null
                }
            ]
        },
        {
            "id": "380c6134",
            "cell_type": "code",
            "metadata": {},
            "execution_count": null,
            "source": "LA.cond(a, 1)",
            "outputs": [
                {
                    "output_type": "execute_result",
                    "metadata": {},
                    "data": {
                        "text/plain": "2.0"
                    },
                    "execution_count": null
                }
            ]
        },
        {
            "id": "5f8834c0",
            "cell_type": "code",
            "metadata": {},
            "execution_count": null,
            "source": "LA.cond(a, -1)",
            "outputs": [
                {
                    "output_type": "execute_result",
                    "metadata": {},
                    "data": {
                        "text/plain": "1.0"
                    },
                    "execution_count": null
                }
            ]
        },
        {
            "id": "04cf29c4",
            "cell_type": "code",
            "metadata": {},
            "execution_count": null,
            "source": "LA.cond(a, 2)",
            "outputs": [
                {
                    "output_type": "execute_result",
                    "metadata": {},
                    "data": {
                        "text/plain": "1.4142135623730951"
                    },
                    "execution_count": null
                }
            ]
        },
        {
            "id": "bc8ea359",
            "cell_type": "code",
            "metadata": {},
            "execution_count": null,
            "source": "LA.cond(a, -2)",
            "outputs": [
                {
                    "output_type": "execute_result",
                    "metadata": {},
                    "data": {
                        "text/plain": "0.70710678118654746 # may vary"
                    },
                    "execution_count": null
                }
            ]
        },
        {
            "id": "3513916a",
            "cell_type": "code",
            "metadata": {},
            "execution_count": null,
            "source": "(min(LA.svd(a, compute_uv=False)) *\nmin(LA.svd(LA.inv(a), compute_uv=False)))",
            "outputs": [
                {
                    "output_type": "execute_result",
                    "metadata": {},
                    "data": {
                        "text/plain": "0.70710678118654746 # may vary"
                    },
                    "execution_count": null
                }
            ]
        }
    ]
}