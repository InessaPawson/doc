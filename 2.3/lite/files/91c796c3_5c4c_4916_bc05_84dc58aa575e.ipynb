{
    "nbformat": 4,
    "nbformat_minor": 5,
    "metadata": {
        "kernelspec": {
            "display_name": "Python",
            "language": "python",
            "name": "python"
        },
        "language_info": {
            "name": "python"
        }
    },
    "cells": [
        {
            "id": "d4754bbb",
            "cell_type": "markdown",
            "source": "<div class='alert alert-warning'>\n\nNumPy's interactive examples are experimental and may not always work as expected, with high load times especially on low-resource platforms, and the version of NumPy might not be in sync with the one you are browsing the documentation for. If you encounter any issues, please report them on the [NumPy issue tracker](https://github.com/numpy/numpy/issues).\n\n</div>",
            "metadata": {}
        },
        {
            "id": "93b20264",
            "cell_type": "markdown",
            "source": "Sort names: first by surname, then by name.\n",
            "metadata": {}
        },
        {
            "id": "7b8a81e9",
            "cell_type": "code",
            "metadata": {},
            "execution_count": null,
            "source": "import numpy as np\nsurnames =    ('Hertz',    'Galilei', 'Hertz')\nfirst_names = ('Heinrich', 'Galileo', 'Gustav')\nind = np.lexsort((first_names, surnames))\nind",
            "outputs": [
                {
                    "output_type": "execute_result",
                    "metadata": {},
                    "data": {
                        "text/plain": "array([1, 2, 0])"
                    },
                    "execution_count": null
                }
            ]
        },
        {
            "id": "c81dfc9d",
            "cell_type": "code",
            "metadata": {},
            "execution_count": null,
            "source": "[surnames[i] + \", \" + first_names[i] for i in ind]",
            "outputs": [
                {
                    "output_type": "execute_result",
                    "metadata": {},
                    "data": {
                        "text/plain": "['Galilei, Galileo', 'Hertz, Gustav', 'Hertz, Heinrich']"
                    },
                    "execution_count": null
                }
            ]
        },
        {
            "id": "9cf859c8",
            "cell_type": "markdown",
            "source": "Sort according to two numerical keys, first by elements\nof ``a``, then breaking ties according to elements of ``b``:\n",
            "metadata": {}
        },
        {
            "id": "ab38ce32",
            "cell_type": "code",
            "metadata": {},
            "execution_count": null,
            "source": "a = [1, 5, 1, 4, 3, 4, 4]  # First sequence\nb = [9, 4, 0, 4, 0, 2, 1]  # Second sequence\nind = np.lexsort((b, a))  # Sort by `a`, then by `b`\nind",
            "outputs": [
                {
                    "output_type": "execute_result",
                    "metadata": {},
                    "data": {
                        "text/plain": "array([2, 0, 4, 6, 5, 3, 1])"
                    },
                    "execution_count": null
                }
            ]
        },
        {
            "id": "7ec9cf4f",
            "cell_type": "code",
            "metadata": {},
            "execution_count": null,
            "source": "[(a[i], b[i]) for i in ind]",
            "outputs": [
                {
                    "output_type": "execute_result",
                    "metadata": {},
                    "data": {
                        "text/plain": "[(1, 0), (1, 9), (3, 0), (4, 1), (4, 2), (4, 4), (5, 4)]"
                    },
                    "execution_count": null
                }
            ]
        },
        {
            "id": "7751a285",
            "cell_type": "markdown",
            "source": "Compare against `argsort`, which would sort each key independently.\n",
            "metadata": {}
        },
        {
            "id": "8d406590",
            "cell_type": "code",
            "metadata": {},
            "execution_count": null,
            "source": "np.argsort((b, a), kind='stable')",
            "outputs": [
                {
                    "output_type": "execute_result",
                    "metadata": {},
                    "data": {
                        "text/plain": "array([[2, 4, 6, 5, 1, 3, 0],\n       [0, 2, 4, 3, 5, 6, 1]])"
                    },
                    "execution_count": null
                }
            ]
        },
        {
            "id": "957c7159",
            "cell_type": "markdown",
            "source": "To sort lexicographically with `argsort`, we would need to provide a\nstructured array.\n",
            "metadata": {}
        },
        {
            "id": "33aebc5c",
            "cell_type": "code",
            "metadata": {},
            "execution_count": null,
            "source": "x = np.array([(ai, bi) for ai, bi in zip(a, b)],\n             dtype = np.dtype([('x', int), ('y', int)]))\nnp.argsort(x)  # or np.argsort(x, order=('x', 'y'))",
            "outputs": [
                {
                    "output_type": "execute_result",
                    "metadata": {},
                    "data": {
                        "text/plain": "array([2, 0, 4, 6, 5, 3, 1])"
                    },
                    "execution_count": null
                }
            ]
        },
        {
            "id": "d0bf2298",
            "cell_type": "markdown",
            "source": "The zeroth axis of `keys` always corresponds with the sequence of keys,\nso 2D arrays are treated just like other sequences of keys.\n",
            "metadata": {}
        },
        {
            "id": "b8315a7d",
            "cell_type": "code",
            "metadata": {},
            "execution_count": null,
            "source": "arr = np.asarray([b, a])\nind2 = np.lexsort(arr)\nnp.testing.assert_equal(ind2, ind)",
            "outputs": []
        },
        {
            "id": "3513d679",
            "cell_type": "markdown",
            "source": "Accordingly, the `axis` parameter refers to an axis of *each* key, not of\nthe `keys` argument itself. For instance, the array ``arr`` is treated as\na sequence of two 1-D keys, so specifying ``axis=0`` is equivalent to\nusing the default axis, ``axis=-1``.\n",
            "metadata": {}
        },
        {
            "id": "e16eabbd",
            "cell_type": "code",
            "metadata": {},
            "execution_count": null,
            "source": "np.testing.assert_equal(np.lexsort(arr, axis=0),\n                        np.lexsort(arr, axis=-1))",
            "outputs": []
        },
        {
            "id": "bba51b49",
            "cell_type": "markdown",
            "source": "For higher-dimensional arrays, the axis parameter begins to matter. The\nresulting array has the same shape as each key, and the values are what\nwe would expect if `lexsort` were performed on corresponding slices\nof the keys independently. For instance,\n",
            "metadata": {}
        },
        {
            "id": "71478e75",
            "cell_type": "code",
            "metadata": {},
            "execution_count": null,
            "source": "x = [[1, 2, 3, 4],\n     [4, 3, 2, 1],\n     [2, 1, 4, 3]]\ny = [[2, 2, 1, 1],\n     [1, 2, 1, 2],\n     [1, 1, 2, 1]]\nnp.lexsort((x, y), axis=1)",
            "outputs": [
                {
                    "output_type": "execute_result",
                    "metadata": {},
                    "data": {
                        "text/plain": "array([[2, 3, 0, 1],\n       [2, 0, 3, 1],\n       [1, 0, 3, 2]])"
                    },
                    "execution_count": null
                }
            ]
        },
        {
            "id": "104c4f6c",
            "cell_type": "markdown",
            "source": "Each row of the result is what we would expect if we were to perform\n`lexsort` on the corresponding row of the keys:\n",
            "metadata": {}
        },
        {
            "id": "1cc2cb5d",
            "cell_type": "code",
            "metadata": {},
            "execution_count": null,
            "source": "for i in range(3):\n    print(np.lexsort((x[i], y[i])))",
            "outputs": [
                {
                    "output_type": "execute_result",
                    "metadata": {},
                    "data": {
                        "text/plain": "[2 3 0 1]\n[2 0 3 1]\n[1 0 3 2]"
                    },
                    "execution_count": null
                }
            ]
        }
    ]
}