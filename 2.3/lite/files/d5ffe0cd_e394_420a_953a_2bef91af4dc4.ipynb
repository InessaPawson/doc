{
    "nbformat": 4,
    "nbformat_minor": 5,
    "metadata": {
        "kernelspec": {
            "display_name": "Python",
            "language": "python",
            "name": "python"
        },
        "language_info": {
            "name": "python"
        }
    },
    "cells": [
        {
            "id": "962181af",
            "cell_type": "markdown",
            "source": "<div class='alert alert-warning'>\n\nNumPy's interactive examples are experimental and may not always work as expected, with high load times especially on low-resource platforms, and the version of NumPy might not be in sync with the one you are browsing the documentation for. If you encounter any issues, please report them on the [NumPy issue tracker](https://github.com/numpy/numpy/issues).\n\n</div>",
            "metadata": {}
        },
        {
            "id": "7a35b57b",
            "cell_type": "code",
            "metadata": {},
            "execution_count": null,
            "source": "import numpy as np\nnp.angle([1.0, 1.0j, 1+1j])               # in radians",
            "outputs": [
                {
                    "output_type": "execute_result",
                    "metadata": {},
                    "data": {
                        "text/plain": "array([ 0.        ,  1.57079633,  0.78539816]) # may vary"
                    },
                    "execution_count": null
                }
            ]
        },
        {
            "id": "f1d6acc0",
            "cell_type": "code",
            "metadata": {},
            "execution_count": null,
            "source": "np.angle(1+1j, deg=True)                  # in degrees",
            "outputs": [
                {
                    "output_type": "execute_result",
                    "metadata": {},
                    "data": {
                        "text/plain": "45.0"
                    },
                    "execution_count": null
                }
            ]
        },
        {
            "id": "c8824893",
            "cell_type": "code",
            "metadata": {},
            "execution_count": null,
            "source": "np.angle([0., -0., complex(0., -0.), complex(-0., -0.)])  # convention",
            "outputs": [
                {
                    "output_type": "execute_result",
                    "metadata": {},
                    "data": {
                        "text/plain": "array([ 0.        ,  3.14159265, -0.        , -3.14159265])"
                    },
                    "execution_count": null
                }
            ]
        }
    ]
}