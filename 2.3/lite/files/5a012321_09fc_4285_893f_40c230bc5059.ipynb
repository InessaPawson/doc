{
    "nbformat": 4,
    "nbformat_minor": 5,
    "metadata": {
        "kernelspec": {
            "display_name": "Python",
            "language": "python",
            "name": "python"
        },
        "language_info": {
            "name": "python"
        }
    },
    "cells": [
        {
            "id": "d0fbb68d",
            "cell_type": "markdown",
            "source": "<div class='alert alert-warning'>\n\nNumPy's interactive examples are experimental and may not always work as expected, with high load times especially on low-resource platforms, and the version of NumPy might not be in sync with the one you are browsing the documentation for. If you encounter any issues, please report them on the [NumPy issue tracker](https://github.com/numpy/numpy/issues).\n\n</div>",
            "metadata": {}
        },
        {
            "id": "90c988a8",
            "cell_type": "code",
            "metadata": {},
            "execution_count": null,
            "source": "import numpy as np\nnp.any([[True, False], [True, True]])",
            "outputs": [
                {
                    "output_type": "execute_result",
                    "metadata": {},
                    "data": {
                        "text/plain": "True"
                    },
                    "execution_count": null
                }
            ]
        },
        {
            "id": "084df637",
            "cell_type": "code",
            "metadata": {},
            "execution_count": null,
            "source": "np.any([[True,  False, True ],\n        [False, False, False]], axis=0)",
            "outputs": [
                {
                    "output_type": "execute_result",
                    "metadata": {},
                    "data": {
                        "text/plain": "array([ True, False, True])"
                    },
                    "execution_count": null
                }
            ]
        },
        {
            "id": "de614b41",
            "cell_type": "code",
            "metadata": {},
            "execution_count": null,
            "source": "np.any([-1, 0, 5])",
            "outputs": [
                {
                    "output_type": "execute_result",
                    "metadata": {},
                    "data": {
                        "text/plain": "True"
                    },
                    "execution_count": null
                }
            ]
        },
        {
            "id": "a22b3aca",
            "cell_type": "code",
            "metadata": {},
            "execution_count": null,
            "source": "np.any([[np.nan], [np.inf]], axis=1, keepdims=True)",
            "outputs": [
                {
                    "output_type": "execute_result",
                    "metadata": {},
                    "data": {
                        "text/plain": "array([[ True],\n       [ True]])"
                    },
                    "execution_count": null
                }
            ]
        },
        {
            "id": "9e63389c",
            "cell_type": "code",
            "metadata": {},
            "execution_count": null,
            "source": "np.any([[True, False], [False, False]], where=[[False], [True]])",
            "outputs": [
                {
                    "output_type": "execute_result",
                    "metadata": {},
                    "data": {
                        "text/plain": "False"
                    },
                    "execution_count": null
                }
            ]
        },
        {
            "id": "775c15e9",
            "cell_type": "code",
            "metadata": {},
            "execution_count": null,
            "source": "a = np.array([[1, 0, 0],\n              [0, 0, 1],\n              [0, 0, 0]])\nnp.any(a, axis=0)",
            "outputs": [
                {
                    "output_type": "execute_result",
                    "metadata": {},
                    "data": {
                        "text/plain": "array([ True, False,  True])"
                    },
                    "execution_count": null
                }
            ]
        },
        {
            "id": "2e6f2ec2",
            "cell_type": "code",
            "metadata": {},
            "execution_count": null,
            "source": "np.any(a, axis=1)",
            "outputs": [
                {
                    "output_type": "execute_result",
                    "metadata": {},
                    "data": {
                        "text/plain": "array([ True,  True, False])"
                    },
                    "execution_count": null
                }
            ]
        },
        {
            "id": "34006384",
            "cell_type": "code",
            "metadata": {},
            "execution_count": null,
            "source": "o=np.array(False)\nz=np.any([-1, 4, 5], out=o)\nz, o",
            "outputs": [
                {
                    "output_type": "execute_result",
                    "metadata": {},
                    "data": {
                        "text/plain": "(array(True), array(True))"
                    },
                    "execution_count": null
                }
            ]
        },
        {
            "id": "59a98dff",
            "cell_type": "code",
            "metadata": {},
            "execution_count": null,
            "source": "# Check now that z is a reference to o\nz is o",
            "outputs": [
                {
                    "output_type": "execute_result",
                    "metadata": {},
                    "data": {
                        "text/plain": "True"
                    },
                    "execution_count": null
                }
            ]
        },
        {
            "id": "848c7e94",
            "cell_type": "code",
            "metadata": {},
            "execution_count": null,
            "source": "id(z), id(o) # identity of z and o              # doctest: +SKIP",
            "outputs": [
                {
                    "output_type": "execute_result",
                    "metadata": {},
                    "data": {
                        "text/plain": "(191614240, 191614240)"
                    },
                    "execution_count": null
                }
            ]
        }
    ]
}