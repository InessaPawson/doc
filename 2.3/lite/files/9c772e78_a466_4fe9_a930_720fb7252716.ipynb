{
    "nbformat": 4,
    "nbformat_minor": 5,
    "metadata": {
        "kernelspec": {
            "display_name": "Python",
            "language": "python",
            "name": "python"
        },
        "language_info": {
            "name": "python"
        }
    },
    "cells": [
        {
            "id": "739d725e",
            "cell_type": "markdown",
            "source": "<div class='alert alert-warning'>\n\nNumPy's interactive examples are experimental and may not always work as expected, with high load times especially on low-resource platforms, and the version of NumPy might not be in sync with the one you are browsing the documentation for. If you encounter any issues, please report them on the [NumPy issue tracker](https://github.com/numpy/numpy/issues).\n\n</div>",
            "metadata": {}
        },
        {
            "id": "f0c5117f",
            "cell_type": "markdown",
            "source": "Draw samples from the distribution:\n",
            "metadata": {}
        },
        {
            "id": "e4a28347",
            "cell_type": "code",
            "metadata": {},
            "execution_count": null,
            "source": "a = .6\nrng = np.random.default_rng()\ns = rng.logseries(a, 10000)\nimport matplotlib.pyplot as plt\nbins = np.arange(-.5, max(s) + .5 )\ncount, bins, _ = plt.hist(s, bins=bins, label='Sample count')",
            "outputs": []
        },
        {
            "id": "d7d92d35",
            "cell_type": "markdown",
            "source": "#   plot against distribution\n",
            "metadata": {}
        },
        {
            "id": "ada60ca2",
            "cell_type": "code",
            "metadata": {},
            "execution_count": null,
            "source": "def logseries(k, p):\n    return -p**k/(k*np.log(1-p))\ncentres = np.arange(1, max(s) + 1)\nplt.plot(centres, logseries(centres, a) * s.size, 'r', label='logseries PMF')\nplt.legend()\nplt.show()",
            "outputs": []
        }
    ]
}