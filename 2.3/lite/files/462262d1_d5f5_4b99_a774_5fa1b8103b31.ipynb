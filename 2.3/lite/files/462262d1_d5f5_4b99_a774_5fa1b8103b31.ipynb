{
    "nbformat": 4,
    "nbformat_minor": 5,
    "metadata": {
        "kernelspec": {
            "display_name": "Python",
            "language": "python",
            "name": "python"
        },
        "language_info": {
            "name": "python"
        }
    },
    "cells": [
        {
            "id": "fcc626e8",
            "cell_type": "markdown",
            "source": "<div class='alert alert-warning'>\n\nNumPy's interactive examples are experimental and may not always work as expected, with high load times especially on low-resource platforms, and the version of NumPy might not be in sync with the one you are browsing the documentation for. If you encounter any issues, please report them on the [NumPy issue tracker](https://github.com/numpy/numpy/issues).\n\n</div>",
            "metadata": {}
        },
        {
            "id": "76452b90",
            "cell_type": "markdown",
            "source": "Callback upon error:\n",
            "metadata": {}
        },
        {
            "id": "9c59233b",
            "cell_type": "code",
            "metadata": {},
            "execution_count": null,
            "source": "def err_handler(type, flag):\n    print(\"Floating point error (%s), with flag %s\" % (type, flag))\n",
            "outputs": []
        },
        {
            "id": "5deebe56",
            "cell_type": "code",
            "metadata": {},
            "execution_count": null,
            "source": "import numpy as np",
            "outputs": []
        },
        {
            "id": "aadfdb76",
            "cell_type": "code",
            "metadata": {},
            "execution_count": null,
            "source": "orig_handler = np.seterrcall(err_handler)\norig_err = np.seterr(all='call')",
            "outputs": []
        },
        {
            "id": "f2b2f51c",
            "cell_type": "code",
            "metadata": {},
            "execution_count": null,
            "source": "np.array([1, 2, 3]) / 0.0",
            "outputs": [
                {
                    "output_type": "execute_result",
                    "metadata": {},
                    "data": {
                        "text/plain": "Floating point error (divide by zero), with flag 1\narray([inf, inf, inf])"
                    },
                    "execution_count": null
                }
            ]
        },
        {
            "id": "1c103194",
            "cell_type": "code",
            "metadata": {},
            "execution_count": null,
            "source": "np.seterrcall(orig_handler)",
            "outputs": [
                {
                    "output_type": "execute_result",
                    "metadata": {},
                    "data": {
                        "text/plain": "<function err_handler at 0x...>"
                    },
                    "execution_count": null
                }
            ]
        },
        {
            "id": "a418c5f8",
            "cell_type": "code",
            "metadata": {},
            "execution_count": null,
            "source": "np.seterr(**orig_err)",
            "outputs": [
                {
                    "output_type": "execute_result",
                    "metadata": {},
                    "data": {
                        "text/plain": "{'divide': 'call', 'over': 'call', 'under': 'call', 'invalid': 'call'}"
                    },
                    "execution_count": null
                }
            ]
        },
        {
            "id": "fcde09a0",
            "cell_type": "markdown",
            "source": "Log error message:\n",
            "metadata": {}
        },
        {
            "id": "a92561e5",
            "cell_type": "code",
            "metadata": {},
            "execution_count": null,
            "source": "class Log:\n    def write(self, msg):\n        print(\"LOG: %s\" % msg)\n",
            "outputs": []
        },
        {
            "id": "5e3ffefb",
            "cell_type": "code",
            "metadata": {},
            "execution_count": null,
            "source": "log = Log()\nsaved_handler = np.seterrcall(log)\nsave_err = np.seterr(all='log')",
            "outputs": []
        },
        {
            "id": "57ce5753",
            "cell_type": "code",
            "metadata": {},
            "execution_count": null,
            "source": "np.array([1, 2, 3]) / 0.0",
            "outputs": [
                {
                    "output_type": "execute_result",
                    "metadata": {},
                    "data": {
                        "text/plain": "LOG: Warning: divide by zero encountered in divide\narray([inf, inf, inf])"
                    },
                    "execution_count": null
                }
            ]
        },
        {
            "id": "ada724e0",
            "cell_type": "code",
            "metadata": {},
            "execution_count": null,
            "source": "np.seterrcall(orig_handler)",
            "outputs": [
                {
                    "output_type": "execute_result",
                    "metadata": {},
                    "data": {
                        "text/plain": "<numpy.Log object at 0x...>"
                    },
                    "execution_count": null
                }
            ]
        },
        {
            "id": "50f7cc4e",
            "cell_type": "code",
            "metadata": {},
            "execution_count": null,
            "source": "np.seterr(**orig_err)",
            "outputs": [
                {
                    "output_type": "execute_result",
                    "metadata": {},
                    "data": {
                        "text/plain": "{'divide': 'log', 'over': 'log', 'under': 'log', 'invalid': 'log'}"
                    },
                    "execution_count": null
                }
            ]
        }
    ]
}