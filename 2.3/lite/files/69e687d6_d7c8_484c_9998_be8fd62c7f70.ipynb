{
    "nbformat": 4,
    "nbformat_minor": 5,
    "metadata": {
        "kernelspec": {
            "display_name": "Python",
            "language": "python",
            "name": "python"
        },
        "language_info": {
            "name": "python"
        }
    },
    "cells": [
        {
            "id": "13e5fd64",
            "cell_type": "markdown",
            "source": "<div class='alert alert-warning'>\n\nNumPy's interactive examples are experimental and may not always work as expected, with high load times especially on low-resource platforms, and the version of NumPy might not be in sync with the one you are browsing the documentation for. If you encounter any issues, please report them on the [NumPy issue tracker](https://github.com/numpy/numpy/issues).\n\n</div>",
            "metadata": {}
        },
        {
            "id": "6bc34a1e",
            "cell_type": "code",
            "metadata": {},
            "execution_count": null,
            "source": "import numpy as np",
            "outputs": []
        },
        {
            "id": "59d395e2",
            "cell_type": "markdown",
            "source": "Construct the polynomial $x^2 + 2x + 3$:\n",
            "metadata": {}
        },
        {
            "id": "c7b7645a",
            "cell_type": "code",
            "metadata": {},
            "execution_count": null,
            "source": "import numpy as np",
            "outputs": []
        },
        {
            "id": "fc08c879",
            "cell_type": "code",
            "metadata": {},
            "execution_count": null,
            "source": "p = np.poly1d([1, 2, 3])\nprint(np.poly1d(p))",
            "outputs": [
                {
                    "output_type": "execute_result",
                    "metadata": {},
                    "data": {
                        "text/plain": "   2\n1 x + 2 x + 3"
                    },
                    "execution_count": null
                }
            ]
        },
        {
            "id": "aa1e274a",
            "cell_type": "markdown",
            "source": "Evaluate the polynomial at $x = 0.5$:\n",
            "metadata": {}
        },
        {
            "id": "1c8bd6ac",
            "cell_type": "code",
            "metadata": {},
            "execution_count": null,
            "source": "p(0.5)",
            "outputs": [
                {
                    "output_type": "execute_result",
                    "metadata": {},
                    "data": {
                        "text/plain": "4.25"
                    },
                    "execution_count": null
                }
            ]
        },
        {
            "id": "c2d0f481",
            "cell_type": "markdown",
            "source": "Find the roots:\n",
            "metadata": {}
        },
        {
            "id": "e08ed64b",
            "cell_type": "code",
            "metadata": {},
            "execution_count": null,
            "source": "p.r",
            "outputs": [
                {
                    "output_type": "execute_result",
                    "metadata": {},
                    "data": {
                        "text/plain": "array([-1.+1.41421356j, -1.-1.41421356j])"
                    },
                    "execution_count": null
                }
            ]
        },
        {
            "id": "82d95670",
            "cell_type": "code",
            "metadata": {},
            "execution_count": null,
            "source": "p(p.r)",
            "outputs": [
                {
                    "output_type": "execute_result",
                    "metadata": {},
                    "data": {
                        "text/plain": "array([ -4.44089210e-16+0.j,  -4.44089210e-16+0.j]) # may vary"
                    },
                    "execution_count": null
                }
            ]
        },
        {
            "id": "f0fb494c",
            "cell_type": "markdown",
            "source": "These numbers in the previous line represent (0, 0) to machine precision\n\nShow the coefficients:\n",
            "metadata": {}
        },
        {
            "id": "30e9d233",
            "cell_type": "code",
            "metadata": {},
            "execution_count": null,
            "source": "p.c",
            "outputs": [
                {
                    "output_type": "execute_result",
                    "metadata": {},
                    "data": {
                        "text/plain": "array([1, 2, 3])"
                    },
                    "execution_count": null
                }
            ]
        },
        {
            "id": "b81fa93b",
            "cell_type": "markdown",
            "source": "Display the order (the leading zero-coefficients are removed):\n",
            "metadata": {}
        },
        {
            "id": "835005ec",
            "cell_type": "code",
            "metadata": {},
            "execution_count": null,
            "source": "p.order",
            "outputs": [
                {
                    "output_type": "execute_result",
                    "metadata": {},
                    "data": {
                        "text/plain": "2"
                    },
                    "execution_count": null
                }
            ]
        },
        {
            "id": "e6a3152b",
            "cell_type": "markdown",
            "source": "Show the coefficient of the k-th power in the polynomial\n(which is equivalent to ``p.c[-(i+1)]``):\n",
            "metadata": {}
        },
        {
            "id": "bc597eae",
            "cell_type": "code",
            "metadata": {},
            "execution_count": null,
            "source": "p[1]",
            "outputs": [
                {
                    "output_type": "execute_result",
                    "metadata": {},
                    "data": {
                        "text/plain": "2"
                    },
                    "execution_count": null
                }
            ]
        },
        {
            "id": "e808698f",
            "cell_type": "markdown",
            "source": "Polynomials can be added, subtracted, multiplied, and divided\n(returns quotient and remainder):\n",
            "metadata": {}
        },
        {
            "id": "ac928707",
            "cell_type": "code",
            "metadata": {},
            "execution_count": null,
            "source": "p * p",
            "outputs": [
                {
                    "output_type": "execute_result",
                    "metadata": {},
                    "data": {
                        "text/plain": "poly1d([ 1,  4, 10, 12,  9])"
                    },
                    "execution_count": null
                }
            ]
        },
        {
            "id": "61f5fccf",
            "cell_type": "code",
            "metadata": {},
            "execution_count": null,
            "source": "(p**3 + 4) / p",
            "outputs": [
                {
                    "output_type": "execute_result",
                    "metadata": {},
                    "data": {
                        "text/plain": "(poly1d([ 1.,  4., 10., 12.,  9.]), poly1d([4.]))"
                    },
                    "execution_count": null
                }
            ]
        },
        {
            "id": "291a967a",
            "cell_type": "markdown",
            "source": "``asarray(p)`` gives the coefficient array, so polynomials can be\nused in all functions that accept arrays:\n",
            "metadata": {}
        },
        {
            "id": "acfe814c",
            "cell_type": "code",
            "metadata": {},
            "execution_count": null,
            "source": "p**2 # square of polynomial",
            "outputs": [
                {
                    "output_type": "execute_result",
                    "metadata": {},
                    "data": {
                        "text/plain": "poly1d([ 1,  4, 10, 12,  9])"
                    },
                    "execution_count": null
                }
            ]
        },
        {
            "id": "92609a00",
            "cell_type": "code",
            "metadata": {},
            "execution_count": null,
            "source": "np.square(p) # square of individual coefficients",
            "outputs": [
                {
                    "output_type": "execute_result",
                    "metadata": {},
                    "data": {
                        "text/plain": "array([1, 4, 9])"
                    },
                    "execution_count": null
                }
            ]
        },
        {
            "id": "f1b3138f",
            "cell_type": "markdown",
            "source": "The variable used in the string representation of `p` can be modified,\nusing the `variable` parameter:\n",
            "metadata": {}
        },
        {
            "id": "3f2e1a73",
            "cell_type": "code",
            "metadata": {},
            "execution_count": null,
            "source": "p = np.poly1d([1,2,3], variable='z')\nprint(p)",
            "outputs": [
                {
                    "output_type": "execute_result",
                    "metadata": {},
                    "data": {
                        "text/plain": "   2\n1 z + 2 z + 3"
                    },
                    "execution_count": null
                }
            ]
        },
        {
            "id": "5674ff6c",
            "cell_type": "markdown",
            "source": "Construct a polynomial from its roots:\n",
            "metadata": {}
        },
        {
            "id": "3e2268da",
            "cell_type": "code",
            "metadata": {},
            "execution_count": null,
            "source": "np.poly1d([1, 2], True)",
            "outputs": [
                {
                    "output_type": "execute_result",
                    "metadata": {},
                    "data": {
                        "text/plain": "poly1d([ 1., -3.,  2.])"
                    },
                    "execution_count": null
                }
            ]
        },
        {
            "id": "6c36e391",
            "cell_type": "markdown",
            "source": "This is the same polynomial as obtained by:\n",
            "metadata": {}
        },
        {
            "id": "e962baa0",
            "cell_type": "code",
            "metadata": {},
            "execution_count": null,
            "source": "np.poly1d([1, -1]) * np.poly1d([1, -2])",
            "outputs": [
                {
                    "output_type": "execute_result",
                    "metadata": {},
                    "data": {
                        "text/plain": "poly1d([ 1, -3,  2])"
                    },
                    "execution_count": null
                }
            ]
        }
    ]
}