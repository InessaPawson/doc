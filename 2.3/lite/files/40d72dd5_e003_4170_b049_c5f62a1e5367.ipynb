{
    "nbformat": 4,
    "nbformat_minor": 5,
    "metadata": {
        "kernelspec": {
            "display_name": "Python",
            "language": "python",
            "name": "python"
        },
        "language_info": {
            "name": "python"
        }
    },
    "cells": [
        {
            "id": "698f86e7",
            "cell_type": "markdown",
            "source": "<div class='alert alert-warning'>\n\nNumPy's interactive examples are experimental and may not always work as expected, with high load times especially on low-resource platforms, and the version of NumPy might not be in sync with the one you are browsing the documentation for. If you encounter any issues, please report them on the [NumPy issue tracker](https://github.com/numpy/numpy/issues).\n\n</div>",
            "metadata": {}
        },
        {
            "id": "7ef9d4a8",
            "cell_type": "code",
            "metadata": {},
            "execution_count": null,
            "source": "import numpy as np\nnp.random.seed(123)\nx = np.random.randint(9, size=(3, 3))\nx",
            "outputs": [
                {
                    "output_type": "execute_result",
                    "metadata": {},
                    "data": {
                        "text/plain": "array([[2, 2, 6],\n       [1, 3, 6],\n       [1, 0, 1]])"
                    },
                    "execution_count": null
                }
            ]
        },
        {
            "id": "458822ca",
            "cell_type": "code",
            "metadata": {},
            "execution_count": null,
            "source": "x.item(3)",
            "outputs": [
                {
                    "output_type": "execute_result",
                    "metadata": {},
                    "data": {
                        "text/plain": "1"
                    },
                    "execution_count": null
                }
            ]
        },
        {
            "id": "326b7497",
            "cell_type": "code",
            "metadata": {},
            "execution_count": null,
            "source": "x.item(7)",
            "outputs": [
                {
                    "output_type": "execute_result",
                    "metadata": {},
                    "data": {
                        "text/plain": "0"
                    },
                    "execution_count": null
                }
            ]
        },
        {
            "id": "ac5ce443",
            "cell_type": "code",
            "metadata": {},
            "execution_count": null,
            "source": "x.item((0, 1))",
            "outputs": [
                {
                    "output_type": "execute_result",
                    "metadata": {},
                    "data": {
                        "text/plain": "2"
                    },
                    "execution_count": null
                }
            ]
        },
        {
            "id": "01c05b53",
            "cell_type": "code",
            "metadata": {},
            "execution_count": null,
            "source": "x.item((2, 2))",
            "outputs": [
                {
                    "output_type": "execute_result",
                    "metadata": {},
                    "data": {
                        "text/plain": "1"
                    },
                    "execution_count": null
                }
            ]
        },
        {
            "id": "97c22f90",
            "cell_type": "markdown",
            "source": "For an array with object dtype, elements are returned as-is.\n",
            "metadata": {}
        },
        {
            "id": "33d4a57d",
            "cell_type": "code",
            "metadata": {},
            "execution_count": null,
            "source": "a = np.array([np.int64(1)], dtype=object)\na.item() #return np.int64",
            "outputs": [
                {
                    "output_type": "execute_result",
                    "metadata": {},
                    "data": {
                        "text/plain": "np.int64(1)"
                    },
                    "execution_count": null
                }
            ]
        }
    ]
}