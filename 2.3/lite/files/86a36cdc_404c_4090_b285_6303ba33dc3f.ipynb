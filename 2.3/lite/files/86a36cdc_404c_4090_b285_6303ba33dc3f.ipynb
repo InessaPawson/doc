{
    "nbformat": 4,
    "nbformat_minor": 5,
    "metadata": {
        "kernelspec": {
            "display_name": "Python",
            "language": "python",
            "name": "python"
        },
        "language_info": {
            "name": "python"
        }
    },
    "cells": [
        {
            "id": "5003c837",
            "cell_type": "markdown",
            "source": "<div class='alert alert-warning'>\n\nNumPy's interactive examples are experimental and may not always work as expected, with high load times especially on low-resource platforms, and the version of NumPy might not be in sync with the one you are browsing the documentation for. If you encounter any issues, please report them on the [NumPy issue tracker](https://github.com/numpy/numpy/issues).\n\n</div>",
            "metadata": {}
        },
        {
            "id": "3c8b46b2",
            "cell_type": "code",
            "metadata": {},
            "execution_count": null,
            "source": "import numpy as np\nfrom numpy import linalg as LA\na = np.arange(9) - 4\na",
            "outputs": [
                {
                    "output_type": "execute_result",
                    "metadata": {},
                    "data": {
                        "text/plain": "array([-4, -3, -2, ...,  2,  3,  4])"
                    },
                    "execution_count": null
                }
            ]
        },
        {
            "id": "bd7a2d48",
            "cell_type": "code",
            "metadata": {},
            "execution_count": null,
            "source": "b = a.reshape((3, 3))\nb",
            "outputs": [
                {
                    "output_type": "execute_result",
                    "metadata": {},
                    "data": {
                        "text/plain": "array([[-4, -3, -2],\n       [-1,  0,  1],\n       [ 2,  3,  4]])"
                    },
                    "execution_count": null
                }
            ]
        },
        {
            "id": "aba9c6c9",
            "cell_type": "code",
            "metadata": {},
            "execution_count": null,
            "source": "LA.norm(a)",
            "outputs": [
                {
                    "output_type": "execute_result",
                    "metadata": {},
                    "data": {
                        "text/plain": "7.745966692414834"
                    },
                    "execution_count": null
                }
            ]
        },
        {
            "id": "2de42267",
            "cell_type": "code",
            "metadata": {},
            "execution_count": null,
            "source": "LA.norm(b)",
            "outputs": [
                {
                    "output_type": "execute_result",
                    "metadata": {},
                    "data": {
                        "text/plain": "7.745966692414834"
                    },
                    "execution_count": null
                }
            ]
        },
        {
            "id": "dc21f809",
            "cell_type": "code",
            "metadata": {},
            "execution_count": null,
            "source": "LA.norm(b, 'fro')",
            "outputs": [
                {
                    "output_type": "execute_result",
                    "metadata": {},
                    "data": {
                        "text/plain": "7.745966692414834"
                    },
                    "execution_count": null
                }
            ]
        },
        {
            "id": "19b86573",
            "cell_type": "code",
            "metadata": {},
            "execution_count": null,
            "source": "LA.norm(a, np.inf)",
            "outputs": [
                {
                    "output_type": "execute_result",
                    "metadata": {},
                    "data": {
                        "text/plain": "4.0"
                    },
                    "execution_count": null
                }
            ]
        },
        {
            "id": "67a56c3b",
            "cell_type": "code",
            "metadata": {},
            "execution_count": null,
            "source": "LA.norm(b, np.inf)",
            "outputs": [
                {
                    "output_type": "execute_result",
                    "metadata": {},
                    "data": {
                        "text/plain": "9.0"
                    },
                    "execution_count": null
                }
            ]
        },
        {
            "id": "d3a97655",
            "cell_type": "code",
            "metadata": {},
            "execution_count": null,
            "source": "LA.norm(a, -np.inf)",
            "outputs": [
                {
                    "output_type": "execute_result",
                    "metadata": {},
                    "data": {
                        "text/plain": "0.0"
                    },
                    "execution_count": null
                }
            ]
        },
        {
            "id": "8054038c",
            "cell_type": "code",
            "metadata": {},
            "execution_count": null,
            "source": "LA.norm(b, -np.inf)",
            "outputs": [
                {
                    "output_type": "execute_result",
                    "metadata": {},
                    "data": {
                        "text/plain": "2.0"
                    },
                    "execution_count": null
                }
            ]
        },
        {
            "id": "04c748c1",
            "cell_type": "code",
            "metadata": {},
            "execution_count": null,
            "source": "LA.norm(a, 1)",
            "outputs": [
                {
                    "output_type": "execute_result",
                    "metadata": {},
                    "data": {
                        "text/plain": "20.0"
                    },
                    "execution_count": null
                }
            ]
        },
        {
            "id": "d99f4675",
            "cell_type": "code",
            "metadata": {},
            "execution_count": null,
            "source": "LA.norm(b, 1)",
            "outputs": [
                {
                    "output_type": "execute_result",
                    "metadata": {},
                    "data": {
                        "text/plain": "7.0"
                    },
                    "execution_count": null
                }
            ]
        },
        {
            "id": "bc725977",
            "cell_type": "code",
            "metadata": {},
            "execution_count": null,
            "source": "LA.norm(a, -1)",
            "outputs": [
                {
                    "output_type": "execute_result",
                    "metadata": {},
                    "data": {
                        "text/plain": "-4.6566128774142013e-010"
                    },
                    "execution_count": null
                }
            ]
        },
        {
            "id": "54f30204",
            "cell_type": "code",
            "metadata": {},
            "execution_count": null,
            "source": "LA.norm(b, -1)",
            "outputs": [
                {
                    "output_type": "execute_result",
                    "metadata": {},
                    "data": {
                        "text/plain": "6.0"
                    },
                    "execution_count": null
                }
            ]
        },
        {
            "id": "f898ac7a",
            "cell_type": "code",
            "metadata": {},
            "execution_count": null,
            "source": "LA.norm(a, 2)",
            "outputs": [
                {
                    "output_type": "execute_result",
                    "metadata": {},
                    "data": {
                        "text/plain": "7.745966692414834"
                    },
                    "execution_count": null
                }
            ]
        },
        {
            "id": "1fc6eb2d",
            "cell_type": "code",
            "metadata": {},
            "execution_count": null,
            "source": "LA.norm(b, 2)",
            "outputs": [
                {
                    "output_type": "execute_result",
                    "metadata": {},
                    "data": {
                        "text/plain": "7.3484692283495345"
                    },
                    "execution_count": null
                }
            ]
        },
        {
            "id": "3643760d",
            "cell_type": "code",
            "metadata": {},
            "execution_count": null,
            "source": "LA.norm(a, -2)",
            "outputs": [
                {
                    "output_type": "execute_result",
                    "metadata": {},
                    "data": {
                        "text/plain": "0.0"
                    },
                    "execution_count": null
                }
            ]
        },
        {
            "id": "e1bf7300",
            "cell_type": "code",
            "metadata": {},
            "execution_count": null,
            "source": "LA.norm(b, -2)",
            "outputs": [
                {
                    "output_type": "execute_result",
                    "metadata": {},
                    "data": {
                        "text/plain": "1.8570331885190563e-016 # may vary"
                    },
                    "execution_count": null
                }
            ]
        },
        {
            "id": "5910bef8",
            "cell_type": "code",
            "metadata": {},
            "execution_count": null,
            "source": "LA.norm(a, 3)",
            "outputs": [
                {
                    "output_type": "execute_result",
                    "metadata": {},
                    "data": {
                        "text/plain": "5.8480354764257312 # may vary"
                    },
                    "execution_count": null
                }
            ]
        },
        {
            "id": "4a2058e7",
            "cell_type": "code",
            "metadata": {},
            "execution_count": null,
            "source": "LA.norm(a, -3)",
            "outputs": [
                {
                    "output_type": "execute_result",
                    "metadata": {},
                    "data": {
                        "text/plain": "0.0"
                    },
                    "execution_count": null
                }
            ]
        },
        {
            "id": "8efc32fd",
            "cell_type": "markdown",
            "source": "Using the `axis` argument to compute vector norms:\n",
            "metadata": {}
        },
        {
            "id": "8c2005ee",
            "cell_type": "code",
            "metadata": {},
            "execution_count": null,
            "source": "c = np.array([[ 1, 2, 3],\n              [-1, 1, 4]])\nLA.norm(c, axis=0)",
            "outputs": [
                {
                    "output_type": "execute_result",
                    "metadata": {},
                    "data": {
                        "text/plain": "array([ 1.41421356,  2.23606798,  5.        ])"
                    },
                    "execution_count": null
                }
            ]
        },
        {
            "id": "a25aedb1",
            "cell_type": "code",
            "metadata": {},
            "execution_count": null,
            "source": "LA.norm(c, axis=1)",
            "outputs": [
                {
                    "output_type": "execute_result",
                    "metadata": {},
                    "data": {
                        "text/plain": "array([ 3.74165739,  4.24264069])"
                    },
                    "execution_count": null
                }
            ]
        },
        {
            "id": "da227e22",
            "cell_type": "code",
            "metadata": {},
            "execution_count": null,
            "source": "LA.norm(c, ord=1, axis=1)",
            "outputs": [
                {
                    "output_type": "execute_result",
                    "metadata": {},
                    "data": {
                        "text/plain": "array([ 6.,  6.])"
                    },
                    "execution_count": null
                }
            ]
        },
        {
            "id": "3b281634",
            "cell_type": "markdown",
            "source": "Using the `axis` argument to compute matrix norms:\n",
            "metadata": {}
        },
        {
            "id": "a151db76",
            "cell_type": "code",
            "metadata": {},
            "execution_count": null,
            "source": "m = np.arange(8).reshape(2,2,2)\nLA.norm(m, axis=(1,2))",
            "outputs": [
                {
                    "output_type": "execute_result",
                    "metadata": {},
                    "data": {
                        "text/plain": "array([  3.74165739,  11.22497216])"
                    },
                    "execution_count": null
                }
            ]
        },
        {
            "id": "fa03e67c",
            "cell_type": "code",
            "metadata": {},
            "execution_count": null,
            "source": "LA.norm(m[0, :, :]), LA.norm(m[1, :, :])",
            "outputs": [
                {
                    "output_type": "execute_result",
                    "metadata": {},
                    "data": {
                        "text/plain": "(3.7416573867739413, 11.224972160321824)"
                    },
                    "execution_count": null
                }
            ]
        }
    ]
}