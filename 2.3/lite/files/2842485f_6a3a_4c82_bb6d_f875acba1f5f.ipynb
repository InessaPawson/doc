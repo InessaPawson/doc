{
    "nbformat": 4,
    "nbformat_minor": 5,
    "metadata": {
        "kernelspec": {
            "display_name": "Python",
            "language": "python",
            "name": "python"
        },
        "language_info": {
            "name": "python"
        }
    },
    "cells": [
        {
            "id": "8e47758f",
            "cell_type": "markdown",
            "source": "<div class='alert alert-warning'>\n\nNumPy's interactive examples are experimental and may not always work as expected, with high load times especially on low-resource platforms, and the version of NumPy might not be in sync with the one you are browsing the documentation for. If you encounter any issues, please report them on the [NumPy issue tracker](https://github.com/numpy/numpy/issues).\n\n</div>",
            "metadata": {}
        },
        {
            "id": "0a6588bf",
            "cell_type": "code",
            "metadata": {},
            "execution_count": null,
            "source": "import numpy as np\nnp.nansum(1)",
            "outputs": [
                {
                    "output_type": "execute_result",
                    "metadata": {},
                    "data": {
                        "text/plain": "1"
                    },
                    "execution_count": null
                }
            ]
        },
        {
            "id": "d7381377",
            "cell_type": "code",
            "metadata": {},
            "execution_count": null,
            "source": "np.nansum([1])",
            "outputs": [
                {
                    "output_type": "execute_result",
                    "metadata": {},
                    "data": {
                        "text/plain": "1"
                    },
                    "execution_count": null
                }
            ]
        },
        {
            "id": "fbefdb75",
            "cell_type": "code",
            "metadata": {},
            "execution_count": null,
            "source": "np.nansum([1, np.nan])",
            "outputs": [
                {
                    "output_type": "execute_result",
                    "metadata": {},
                    "data": {
                        "text/plain": "1.0"
                    },
                    "execution_count": null
                }
            ]
        },
        {
            "id": "33a9c57e",
            "cell_type": "code",
            "metadata": {},
            "execution_count": null,
            "source": "a = np.array([[1, 1], [1, np.nan]])\nnp.nansum(a)",
            "outputs": [
                {
                    "output_type": "execute_result",
                    "metadata": {},
                    "data": {
                        "text/plain": "3.0"
                    },
                    "execution_count": null
                }
            ]
        },
        {
            "id": "681c30b2",
            "cell_type": "code",
            "metadata": {},
            "execution_count": null,
            "source": "np.nansum(a, axis=0)",
            "outputs": [
                {
                    "output_type": "execute_result",
                    "metadata": {},
                    "data": {
                        "text/plain": "array([2.,  1.])"
                    },
                    "execution_count": null
                }
            ]
        },
        {
            "id": "04303409",
            "cell_type": "code",
            "metadata": {},
            "execution_count": null,
            "source": "np.nansum([1, np.nan, np.inf])",
            "outputs": [
                {
                    "output_type": "execute_result",
                    "metadata": {},
                    "data": {
                        "text/plain": "inf"
                    },
                    "execution_count": null
                }
            ]
        },
        {
            "id": "f311cc7c",
            "cell_type": "code",
            "metadata": {},
            "execution_count": null,
            "source": "np.nansum([1, np.nan, -np.inf])",
            "outputs": [
                {
                    "output_type": "execute_result",
                    "metadata": {},
                    "data": {
                        "text/plain": "-inf"
                    },
                    "execution_count": null
                }
            ]
        },
        {
            "id": "ed80b7a0",
            "cell_type": "code",
            "metadata": {},
            "execution_count": null,
            "source": "from numpy.testing import suppress_warnings\nwith np.errstate(invalid=\"ignore\"):\n    np.nansum([1, np.nan, np.inf, -np.inf]) # both +/- infinity present",
            "outputs": [
                {
                    "output_type": "execute_result",
                    "metadata": {},
                    "data": {
                        "text/plain": "np.float64(nan)"
                    },
                    "execution_count": null
                }
            ]
        }
    ]
}