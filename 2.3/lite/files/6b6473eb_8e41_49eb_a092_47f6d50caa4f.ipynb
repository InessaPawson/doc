{
    "nbformat": 4,
    "nbformat_minor": 5,
    "metadata": {
        "kernelspec": {
            "display_name": "Python",
            "language": "python",
            "name": "python"
        },
        "language_info": {
            "name": "python"
        }
    },
    "cells": [
        {
            "id": "c67647bf",
            "cell_type": "markdown",
            "source": "<div class='alert alert-warning'>\n\nNumPy's interactive examples are experimental and may not always work as expected, with high load times especially on low-resource platforms, and the version of NumPy might not be in sync with the one you are browsing the documentation for. If you encounter any issues, please report them on the [NumPy issue tracker](https://github.com/numpy/numpy/issues).\n\n</div>",
            "metadata": {}
        },
        {
            "id": "418131fd",
            "cell_type": "code",
            "metadata": {},
            "execution_count": null,
            "source": "import numpy as np",
            "outputs": []
        },
        {
            "id": "f90068a4",
            "cell_type": "markdown",
            "source": "Compute two different sets of indices to access 4x4 arrays, one for the\nlower triangular part starting at the main diagonal, and one starting two\ndiagonals further right:\n",
            "metadata": {}
        },
        {
            "id": "a5406a6c",
            "cell_type": "code",
            "metadata": {},
            "execution_count": null,
            "source": "il1 = np.tril_indices(4)\nil1",
            "outputs": [
                {
                    "output_type": "execute_result",
                    "metadata": {},
                    "data": {
                        "text/plain": "(array([0, 1, 1, 2, 2, 2, 3, 3, 3, 3]), array([0, 0, 1, 0, 1, 2, 0, 1, 2, 3]))"
                    },
                    "execution_count": null
                }
            ]
        },
        {
            "id": "fbda441a",
            "cell_type": "markdown",
            "source": "Note that row indices (first array) are non-decreasing, and the corresponding\ncolumn indices (second array) are strictly increasing for each row.\nHere is how they can be used with a sample array:\n",
            "metadata": {}
        },
        {
            "id": "803cc6d8",
            "cell_type": "code",
            "metadata": {},
            "execution_count": null,
            "source": "a = np.arange(16).reshape(4, 4)\na",
            "outputs": [
                {
                    "output_type": "execute_result",
                    "metadata": {},
                    "data": {
                        "text/plain": "array([[ 0,  1,  2,  3],\n       [ 4,  5,  6,  7],\n       [ 8,  9, 10, 11],\n       [12, 13, 14, 15]])"
                    },
                    "execution_count": null
                }
            ]
        },
        {
            "id": "e3a5b805",
            "cell_type": "markdown",
            "source": "Both for indexing:\n",
            "metadata": {}
        },
        {
            "id": "c9203aeb",
            "cell_type": "code",
            "metadata": {},
            "execution_count": null,
            "source": "a[il1]",
            "outputs": [
                {
                    "output_type": "execute_result",
                    "metadata": {},
                    "data": {
                        "text/plain": "array([ 0,  4,  5, ..., 13, 14, 15])"
                    },
                    "execution_count": null
                }
            ]
        },
        {
            "id": "efe1e1ca",
            "cell_type": "markdown",
            "source": "And for assigning values:\n",
            "metadata": {}
        },
        {
            "id": "a9f2cdd0",
            "cell_type": "code",
            "metadata": {},
            "execution_count": null,
            "source": "a[il1] = -1\na",
            "outputs": [
                {
                    "output_type": "execute_result",
                    "metadata": {},
                    "data": {
                        "text/plain": "array([[-1,  1,  2,  3],\n       [-1, -1,  6,  7],\n       [-1, -1, -1, 11],\n       [-1, -1, -1, -1]])"
                    },
                    "execution_count": null
                }
            ]
        },
        {
            "id": "c3d28978",
            "cell_type": "markdown",
            "source": "These cover almost the whole array (two diagonals right of the main one):\n",
            "metadata": {}
        },
        {
            "id": "9a96d01b",
            "cell_type": "code",
            "metadata": {},
            "execution_count": null,
            "source": "il2 = np.tril_indices(4, 2)\na[il2] = -10\na",
            "outputs": [
                {
                    "output_type": "execute_result",
                    "metadata": {},
                    "data": {
                        "text/plain": "array([[-10, -10, -10,   3],\n       [-10, -10, -10, -10],\n       [-10, -10, -10, -10],\n       [-10, -10, -10, -10]])"
                    },
                    "execution_count": null
                }
            ]
        }
    ]
}