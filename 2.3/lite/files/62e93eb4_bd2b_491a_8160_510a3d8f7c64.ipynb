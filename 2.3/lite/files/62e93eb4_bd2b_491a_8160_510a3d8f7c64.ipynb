{
    "nbformat": 4,
    "nbformat_minor": 5,
    "metadata": {
        "kernelspec": {
            "display_name": "Python",
            "language": "python",
            "name": "python"
        },
        "language_info": {
            "name": "python"
        }
    },
    "cells": [
        {
            "id": "90389451",
            "cell_type": "markdown",
            "source": "<div class='alert alert-warning'>\n\nNumPy's interactive examples are experimental and may not always work as expected, with high load times especially on low-resource platforms, and the version of NumPy might not be in sync with the one you are browsing the documentation for. If you encounter any issues, please report them on the [NumPy issue tracker](https://github.com/numpy/numpy/issues).\n\n</div>",
            "metadata": {}
        },
        {
            "id": "648b94f9",
            "cell_type": "markdown",
            "source": "Draw values from the distribution and plot the histogram\n",
            "metadata": {}
        },
        {
            "id": "6ac53205",
            "cell_type": "code",
            "metadata": {},
            "execution_count": null,
            "source": "rng = np.random.default_rng()\nimport matplotlib.pyplot as plt\nvalues = plt.hist(rng.noncentral_chisquare(3, 20, 100000),\n                  bins=200, density=True)\nplt.show()",
            "outputs": []
        },
        {
            "id": "6a0f1355",
            "cell_type": "markdown",
            "source": "Draw values from a noncentral chisquare with very small noncentrality,\nand compare to a chisquare.\n",
            "metadata": {}
        },
        {
            "id": "93d0b363",
            "cell_type": "code",
            "metadata": {},
            "execution_count": null,
            "source": "plt.figure()\nvalues = plt.hist(rng.noncentral_chisquare(3, .0000001, 100000),\n                  bins=np.arange(0., 25, .1), density=True)\nvalues2 = plt.hist(rng.chisquare(3, 100000),\n                   bins=np.arange(0., 25, .1), density=True)\nplt.plot(values[1][0:-1], values[0]-values2[0], 'ob')\nplt.show()",
            "outputs": []
        },
        {
            "id": "d7e5aa01",
            "cell_type": "markdown",
            "source": "Demonstrate how large values of non-centrality lead to a more symmetric\ndistribution.\n",
            "metadata": {}
        },
        {
            "id": "cdb32349",
            "cell_type": "code",
            "metadata": {},
            "execution_count": null,
            "source": "plt.figure()\nvalues = plt.hist(rng.noncentral_chisquare(3, 20, 100000),\n                  bins=200, density=True)\nplt.show()",
            "outputs": []
        }
    ]
}