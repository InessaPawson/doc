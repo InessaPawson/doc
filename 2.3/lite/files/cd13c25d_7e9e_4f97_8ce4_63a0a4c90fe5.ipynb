{
    "nbformat": 4,
    "nbformat_minor": 5,
    "metadata": {
        "kernelspec": {
            "display_name": "Python",
            "language": "python",
            "name": "python"
        },
        "language_info": {
            "name": "python"
        }
    },
    "cells": [
        {
            "id": "c009d10d",
            "cell_type": "markdown",
            "source": "<div class='alert alert-warning'>\n\nNumPy's interactive examples are experimental and may not always work as expected, with high load times especially on low-resource platforms, and the version of NumPy might not be in sync with the one you are browsing the documentation for. If you encounter any issues, please report them on the [NumPy issue tracker](https://github.com/numpy/numpy/issues).\n\n</div>",
            "metadata": {}
        },
        {
            "id": "38c8f860",
            "cell_type": "code",
            "metadata": {},
            "execution_count": null,
            "source": "import numpy as np",
            "outputs": []
        },
        {
            "id": "5c2b5b9d",
            "cell_type": "code",
            "metadata": {},
            "execution_count": null,
            "source": "from numpy.testing import assert_equal\nwith np.printoptions(precision=2):\n    np.array([2.0]) / 3",
            "outputs": [
                {
                    "output_type": "execute_result",
                    "metadata": {},
                    "data": {
                        "text/plain": "array([0.67])"
                    },
                    "execution_count": null
                }
            ]
        },
        {
            "id": "56fc4b61",
            "cell_type": "markdown",
            "source": "The `as`-clause of the `with`-statement gives the current print options:\n",
            "metadata": {}
        },
        {
            "id": "647c32b6",
            "cell_type": "code",
            "metadata": {},
            "execution_count": null,
            "source": "with np.printoptions(precision=2) as opts:\n     assert_equal(opts, np.get_printoptions())",
            "outputs": []
        }
    ]
}