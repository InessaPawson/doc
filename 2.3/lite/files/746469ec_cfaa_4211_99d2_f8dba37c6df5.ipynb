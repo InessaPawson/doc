{
    "nbformat": 4,
    "nbformat_minor": 5,
    "metadata": {
        "kernelspec": {
            "display_name": "Python",
            "language": "python",
            "name": "python"
        },
        "language_info": {
            "name": "python"
        }
    },
    "cells": [
        {
            "id": "f048d870",
            "cell_type": "markdown",
            "source": "<div class='alert alert-warning'>\n\nNumPy's interactive examples are experimental and may not always work as expected, with high load times especially on low-resource platforms, and the version of NumPy might not be in sync with the one you are browsing the documentation for. If you encounter any issues, please report them on the [NumPy issue tracker](https://github.com/numpy/numpy/issues).\n\n</div>",
            "metadata": {}
        },
        {
            "id": "0a9fd0d3",
            "cell_type": "code",
            "metadata": {},
            "execution_count": null,
            "source": "p = np.polynomial.Polynomial([1, 2, 3])\nc = np.polynomial.Chebyshev([1, 2, 3])\nnp.polynomial.set_default_printstyle('unicode')\nprint(p)",
            "outputs": [
                {
                    "output_type": "execute_result",
                    "metadata": {},
                    "data": {
                        "text/plain": "1.0 + 2.0·x + 3.0·x²"
                    },
                    "execution_count": null
                }
            ]
        },
        {
            "id": "ab012e5f",
            "cell_type": "code",
            "metadata": {},
            "execution_count": null,
            "source": "print(c)",
            "outputs": [
                {
                    "output_type": "execute_result",
                    "metadata": {},
                    "data": {
                        "text/plain": "1.0 + 2.0·T₁(x) + 3.0·T₂(x)"
                    },
                    "execution_count": null
                }
            ]
        },
        {
            "id": "ad38486b",
            "cell_type": "code",
            "metadata": {},
            "execution_count": null,
            "source": "np.polynomial.set_default_printstyle('ascii')\nprint(p)",
            "outputs": [
                {
                    "output_type": "execute_result",
                    "metadata": {},
                    "data": {
                        "text/plain": "1.0 + 2.0 x + 3.0 x**2"
                    },
                    "execution_count": null
                }
            ]
        },
        {
            "id": "4c1f877a",
            "cell_type": "code",
            "metadata": {},
            "execution_count": null,
            "source": "print(c)",
            "outputs": [
                {
                    "output_type": "execute_result",
                    "metadata": {},
                    "data": {
                        "text/plain": "1.0 + 2.0 T_1(x) + 3.0 T_2(x)"
                    },
                    "execution_count": null
                }
            ]
        },
        {
            "id": "81ee88bd",
            "cell_type": "code",
            "metadata": {},
            "execution_count": null,
            "source": "# Formatting supersedes all class/package-level defaults\nprint(f\"{p:unicode}\")",
            "outputs": [
                {
                    "output_type": "execute_result",
                    "metadata": {},
                    "data": {
                        "text/plain": "1.0 + 2.0·x + 3.0·x²"
                    },
                    "execution_count": null
                }
            ]
        }
    ]
}