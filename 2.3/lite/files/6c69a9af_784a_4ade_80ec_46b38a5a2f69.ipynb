{
    "nbformat": 4,
    "nbformat_minor": 5,
    "metadata": {
        "kernelspec": {
            "display_name": "Python",
            "language": "python",
            "name": "python"
        },
        "language_info": {
            "name": "python"
        }
    },
    "cells": [
        {
            "id": "6e6e3d20",
            "cell_type": "markdown",
            "source": "<div class='alert alert-warning'>\n\nNumPy's interactive examples are experimental and may not always work as expected, with high load times especially on low-resource platforms, and the version of NumPy might not be in sync with the one you are browsing the documentation for. If you encounter any issues, please report them on the [NumPy issue tracker](https://github.com/numpy/numpy/issues).\n\n</div>",
            "metadata": {}
        },
        {
            "id": "8df2023a",
            "cell_type": "code",
            "metadata": {},
            "execution_count": null,
            "source": "import numpy as np",
            "outputs": []
        },
        {
            "id": "e538a778",
            "cell_type": "markdown",
            "source": "Create a 4 by 4 array.\n",
            "metadata": {}
        },
        {
            "id": "49d6009a",
            "cell_type": "code",
            "metadata": {},
            "execution_count": null,
            "source": "a = np.arange(16).reshape(4, 4)\na",
            "outputs": [
                {
                    "output_type": "execute_result",
                    "metadata": {},
                    "data": {
                        "text/plain": "array([[ 0,  1,  2,  3],\n       [ 4,  5,  6,  7],\n       [ 8,  9, 10, 11],\n       [12, 13, 14, 15]])"
                    },
                    "execution_count": null
                }
            ]
        },
        {
            "id": "61290802",
            "cell_type": "markdown",
            "source": "Get the indices of the diagonal elements.\n",
            "metadata": {}
        },
        {
            "id": "494b2d77",
            "cell_type": "code",
            "metadata": {},
            "execution_count": null,
            "source": "di = np.diag_indices_from(a)\ndi",
            "outputs": [
                {
                    "output_type": "execute_result",
                    "metadata": {},
                    "data": {
                        "text/plain": "(array([0, 1, 2, 3]), array([0, 1, 2, 3]))"
                    },
                    "execution_count": null
                }
            ]
        },
        {
            "id": "2a077057",
            "cell_type": "code",
            "metadata": {},
            "execution_count": null,
            "source": "a[di]",
            "outputs": [
                {
                    "output_type": "execute_result",
                    "metadata": {},
                    "data": {
                        "text/plain": "array([ 0,  5, 10, 15])"
                    },
                    "execution_count": null
                }
            ]
        },
        {
            "id": "0f9eed01",
            "cell_type": "markdown",
            "source": "This is simply syntactic sugar for diag_indices.\n",
            "metadata": {}
        },
        {
            "id": "d639faa9",
            "cell_type": "code",
            "metadata": {},
            "execution_count": null,
            "source": "np.diag_indices(a.shape[0])",
            "outputs": [
                {
                    "output_type": "execute_result",
                    "metadata": {},
                    "data": {
                        "text/plain": "(array([0, 1, 2, 3]), array([0, 1, 2, 3]))"
                    },
                    "execution_count": null
                }
            ]
        }
    ]
}