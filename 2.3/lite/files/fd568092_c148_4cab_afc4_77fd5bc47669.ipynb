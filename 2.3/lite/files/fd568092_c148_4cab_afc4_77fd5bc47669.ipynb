{
    "nbformat": 4,
    "nbformat_minor": 5,
    "metadata": {
        "kernelspec": {
            "display_name": "Python",
            "language": "python",
            "name": "python"
        },
        "language_info": {
            "name": "python"
        }
    },
    "cells": [
        {
            "id": "4d417279",
            "cell_type": "markdown",
            "source": "<div class='alert alert-warning'>\n\nNumPy's interactive examples are experimental and may not always work as expected, with high load times especially on low-resource platforms, and the version of NumPy might not be in sync with the one you are browsing the documentation for. If you encounter any issues, please report them on the [NumPy issue tracker](https://github.com/numpy/numpy/issues).\n\n</div>",
            "metadata": {}
        },
        {
            "id": "67830f9b",
            "cell_type": "markdown",
            "source": "We expect the arctan of 0 to be 0, and of 1 to be pi/4:\n",
            "metadata": {}
        },
        {
            "id": "0a1ced9a",
            "cell_type": "code",
            "metadata": {},
            "execution_count": null,
            "source": "import numpy as np\nnp.arctan([0, 1])",
            "outputs": [
                {
                    "output_type": "execute_result",
                    "metadata": {},
                    "data": {
                        "text/plain": "array([ 0.        ,  0.78539816])"
                    },
                    "execution_count": null
                }
            ]
        },
        {
            "id": "8eb6ce58",
            "cell_type": "code",
            "metadata": {},
            "execution_count": null,
            "source": "np.pi/4",
            "outputs": [
                {
                    "output_type": "execute_result",
                    "metadata": {},
                    "data": {
                        "text/plain": "0.78539816339744828"
                    },
                    "execution_count": null
                }
            ]
        },
        {
            "id": "b125d0b2",
            "cell_type": "markdown",
            "source": "Plot arctan:\n",
            "metadata": {}
        },
        {
            "id": "2f629f35",
            "cell_type": "code",
            "metadata": {},
            "execution_count": null,
            "source": "import matplotlib.pyplot as plt\nx = np.linspace(-10, 10)\nplt.plot(x, np.arctan(x))\nplt.axis('tight')\nplt.show()",
            "outputs": []
        }
    ]
}