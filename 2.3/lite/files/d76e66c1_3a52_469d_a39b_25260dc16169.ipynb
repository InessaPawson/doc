{
    "nbformat": 4,
    "nbformat_minor": 5,
    "metadata": {
        "kernelspec": {
            "display_name": "Python",
            "language": "python",
            "name": "python"
        },
        "language_info": {
            "name": "python"
        }
    },
    "cells": [
        {
            "id": "a393f4d6",
            "cell_type": "markdown",
            "source": "<div class='alert alert-warning'>\n\nNumPy's interactive examples are experimental and may not always work as expected, with high load times especially on low-resource platforms, and the version of NumPy might not be in sync with the one you are browsing the documentation for. If you encounter any issues, please report them on the [NumPy issue tracker](https://github.com/numpy/numpy/issues).\n\n</div>",
            "metadata": {}
        },
        {
            "id": "1ec60527",
            "cell_type": "code",
            "metadata": {},
            "execution_count": null,
            "source": "import numpy as np\nelement = 2*np.arange(4).reshape((2, 2))\nelement",
            "outputs": [
                {
                    "output_type": "execute_result",
                    "metadata": {},
                    "data": {
                        "text/plain": "array([[0, 2],\n       [4, 6]])"
                    },
                    "execution_count": null
                }
            ]
        },
        {
            "id": "b3570e2c",
            "cell_type": "code",
            "metadata": {},
            "execution_count": null,
            "source": "test_elements = [1, 2, 4, 8]\nmask = np.isin(element, test_elements)\nmask",
            "outputs": [
                {
                    "output_type": "execute_result",
                    "metadata": {},
                    "data": {
                        "text/plain": "array([[False,  True],\n       [ True, False]])"
                    },
                    "execution_count": null
                }
            ]
        },
        {
            "id": "f7301c97",
            "cell_type": "code",
            "metadata": {},
            "execution_count": null,
            "source": "element[mask]",
            "outputs": [
                {
                    "output_type": "execute_result",
                    "metadata": {},
                    "data": {
                        "text/plain": "array([2, 4])"
                    },
                    "execution_count": null
                }
            ]
        },
        {
            "id": "e395d9d8",
            "cell_type": "markdown",
            "source": "The indices of the matched values can be obtained with `nonzero`:\n",
            "metadata": {}
        },
        {
            "id": "c4201a15",
            "cell_type": "code",
            "metadata": {},
            "execution_count": null,
            "source": "np.nonzero(mask)",
            "outputs": [
                {
                    "output_type": "execute_result",
                    "metadata": {},
                    "data": {
                        "text/plain": "(array([0, 1]), array([1, 0]))"
                    },
                    "execution_count": null
                }
            ]
        },
        {
            "id": "e0414be2",
            "cell_type": "markdown",
            "source": "The test can also be inverted:\n",
            "metadata": {}
        },
        {
            "id": "f9b9aaf3",
            "cell_type": "code",
            "metadata": {},
            "execution_count": null,
            "source": "mask = np.isin(element, test_elements, invert=True)\nmask",
            "outputs": [
                {
                    "output_type": "execute_result",
                    "metadata": {},
                    "data": {
                        "text/plain": "array([[ True, False],\n       [False,  True]])"
                    },
                    "execution_count": null
                }
            ]
        },
        {
            "id": "903b26cc",
            "cell_type": "code",
            "metadata": {},
            "execution_count": null,
            "source": "element[mask]",
            "outputs": [
                {
                    "output_type": "execute_result",
                    "metadata": {},
                    "data": {
                        "text/plain": "array([0, 6])"
                    },
                    "execution_count": null
                }
            ]
        },
        {
            "id": "aac5d94e",
            "cell_type": "markdown",
            "source": "Because of how `array` handles sets, the following does not\nwork as expected:\n",
            "metadata": {}
        },
        {
            "id": "1453eefb",
            "cell_type": "code",
            "metadata": {},
            "execution_count": null,
            "source": "test_set = {1, 2, 4, 8}\nnp.isin(element, test_set)",
            "outputs": [
                {
                    "output_type": "execute_result",
                    "metadata": {},
                    "data": {
                        "text/plain": "array([[False, False],\n       [False, False]])"
                    },
                    "execution_count": null
                }
            ]
        },
        {
            "id": "f9b03c4f",
            "cell_type": "markdown",
            "source": "Casting the set to a list gives the expected result:\n",
            "metadata": {}
        },
        {
            "id": "a131d014",
            "cell_type": "code",
            "metadata": {},
            "execution_count": null,
            "source": "np.isin(element, list(test_set))",
            "outputs": [
                {
                    "output_type": "execute_result",
                    "metadata": {},
                    "data": {
                        "text/plain": "array([[False,  True],\n       [ True, False]])"
                    },
                    "execution_count": null
                }
            ]
        }
    ]
}