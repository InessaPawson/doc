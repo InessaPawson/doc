{
    "nbformat": 4,
    "nbformat_minor": 5,
    "metadata": {
        "kernelspec": {
            "display_name": "Python",
            "language": "python",
            "name": "python"
        },
        "language_info": {
            "name": "python"
        }
    },
    "cells": [
        {
            "id": "03d5bdd5",
            "cell_type": "markdown",
            "source": "<div class='alert alert-warning'>\n\nNumPy's interactive examples are experimental and may not always work as expected, with high load times especially on low-resource platforms, and the version of NumPy might not be in sync with the one you are browsing the documentation for. If you encounter any issues, please report them on the [NumPy issue tracker](https://github.com/numpy/numpy/issues).\n\n</div>",
            "metadata": {}
        },
        {
            "id": "7da5c326",
            "cell_type": "code",
            "metadata": {},
            "execution_count": null,
            "source": "import numpy as np\na = np.array([[1, np.nan], [3, 4]])\nnp.nanvar(a)",
            "outputs": [
                {
                    "output_type": "execute_result",
                    "metadata": {},
                    "data": {
                        "text/plain": "1.5555555555555554"
                    },
                    "execution_count": null
                }
            ]
        },
        {
            "id": "8733d3be",
            "cell_type": "code",
            "metadata": {},
            "execution_count": null,
            "source": "np.nanvar(a, axis=0)",
            "outputs": [
                {
                    "output_type": "execute_result",
                    "metadata": {},
                    "data": {
                        "text/plain": "array([1.,  0.])"
                    },
                    "execution_count": null
                }
            ]
        },
        {
            "id": "ac7923ad",
            "cell_type": "code",
            "metadata": {},
            "execution_count": null,
            "source": "np.nanvar(a, axis=1)",
            "outputs": [
                {
                    "output_type": "execute_result",
                    "metadata": {},
                    "data": {
                        "text/plain": "array([0.,  0.25])  # may vary"
                    },
                    "execution_count": null
                }
            ]
        }
    ]
}