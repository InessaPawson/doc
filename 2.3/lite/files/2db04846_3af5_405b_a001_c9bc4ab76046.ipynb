{
    "nbformat": 4,
    "nbformat_minor": 5,
    "metadata": {
        "kernelspec": {
            "display_name": "Python",
            "language": "python",
            "name": "python"
        },
        "language_info": {
            "name": "python"
        }
    },
    "cells": [
        {
            "id": "ec8fe3f9",
            "cell_type": "markdown",
            "source": "<div class='alert alert-warning'>\n\nNumPy's interactive examples are experimental and may not always work as expected, with high load times especially on low-resource platforms, and the version of NumPy might not be in sync with the one you are browsing the documentation for. If you encounter any issues, please report them on the [NumPy issue tracker](https://github.com/numpy/numpy/issues).\n\n</div>",
            "metadata": {}
        },
        {
            "id": "58379e5c",
            "cell_type": "code",
            "metadata": {},
            "execution_count": null,
            "source": "import numpy as np\nnp.bincount(np.arange(5))",
            "outputs": [
                {
                    "output_type": "execute_result",
                    "metadata": {},
                    "data": {
                        "text/plain": "array([1, 1, 1, 1, 1])"
                    },
                    "execution_count": null
                }
            ]
        },
        {
            "id": "00e0a0f2",
            "cell_type": "code",
            "metadata": {},
            "execution_count": null,
            "source": "np.bincount(np.array([0, 1, 1, 3, 2, 1, 7]))",
            "outputs": [
                {
                    "output_type": "execute_result",
                    "metadata": {},
                    "data": {
                        "text/plain": "array([1, 3, 1, 1, 0, 0, 0, 1])"
                    },
                    "execution_count": null
                }
            ]
        },
        {
            "id": "2f372baf",
            "cell_type": "code",
            "metadata": {},
            "execution_count": null,
            "source": "x = np.array([0, 1, 1, 3, 2, 1, 7, 23])\nnp.bincount(x).size == np.amax(x)+1",
            "outputs": [
                {
                    "output_type": "execute_result",
                    "metadata": {},
                    "data": {
                        "text/plain": "True"
                    },
                    "execution_count": null
                }
            ]
        },
        {
            "id": "2b2da3d8",
            "cell_type": "markdown",
            "source": "The input array needs to be of integer dtype, otherwise a\nTypeError is raised:\n",
            "metadata": {}
        },
        {
            "id": "eb82aba9",
            "cell_type": "code",
            "metadata": {},
            "execution_count": null,
            "source": "np.bincount(np.arange(5, dtype=float))",
            "outputs": [
                {
                    "output_type": "execute_result",
                    "metadata": {},
                    "data": {
                        "text/plain": "Traceback (most recent call last):\n  ...\nTypeError: Cannot cast array data from dtype('float64') to dtype('int64')\naccording to the rule 'safe'"
                    },
                    "execution_count": null
                }
            ]
        },
        {
            "id": "07f4b2c7",
            "cell_type": "markdown",
            "source": "A possible use of ``bincount`` is to perform sums over\nvariable-size chunks of an array, using the ``weights`` keyword.\n",
            "metadata": {}
        },
        {
            "id": "39ecc248",
            "cell_type": "code",
            "metadata": {},
            "execution_count": null,
            "source": "w = np.array([0.3, 0.5, 0.2, 0.7, 1., -0.6]) # weights\nx = np.array([0, 1, 1, 2, 2, 2])\nnp.bincount(x,  weights=w)",
            "outputs": [
                {
                    "output_type": "execute_result",
                    "metadata": {},
                    "data": {
                        "text/plain": "array([ 0.3,  0.7,  1.1])"
                    },
                    "execution_count": null
                }
            ]
        }
    ]
}