{
    "nbformat": 4,
    "nbformat_minor": 5,
    "metadata": {
        "kernelspec": {
            "display_name": "Python",
            "language": "python",
            "name": "python"
        },
        "language_info": {
            "name": "python"
        }
    },
    "cells": [
        {
            "id": "4813a087",
            "cell_type": "markdown",
            "source": "<div class='alert alert-warning'>\n\nNumPy's interactive examples are experimental and may not always work as expected, with high load times especially on low-resource platforms, and the version of NumPy might not be in sync with the one you are browsing the documentation for. If you encounter any issues, please report them on the [NumPy issue tracker](https://github.com/numpy/numpy/issues).\n\n</div>",
            "metadata": {}
        },
        {
            "id": "bc0c2eb3",
            "cell_type": "code",
            "metadata": {},
            "execution_count": null,
            "source": "import numpy as np",
            "outputs": []
        },
        {
            "id": "11edf939",
            "cell_type": "code",
            "metadata": {},
            "execution_count": null,
            "source": "np.isscalar(3.1)",
            "outputs": [
                {
                    "output_type": "execute_result",
                    "metadata": {},
                    "data": {
                        "text/plain": "True"
                    },
                    "execution_count": null
                }
            ]
        },
        {
            "id": "f9aa96b9",
            "cell_type": "code",
            "metadata": {},
            "execution_count": null,
            "source": "np.isscalar(np.array(3.1))",
            "outputs": [
                {
                    "output_type": "execute_result",
                    "metadata": {},
                    "data": {
                        "text/plain": "False"
                    },
                    "execution_count": null
                }
            ]
        },
        {
            "id": "16ccd8ca",
            "cell_type": "code",
            "metadata": {},
            "execution_count": null,
            "source": "np.isscalar([3.1])",
            "outputs": [
                {
                    "output_type": "execute_result",
                    "metadata": {},
                    "data": {
                        "text/plain": "False"
                    },
                    "execution_count": null
                }
            ]
        },
        {
            "id": "352b6f46",
            "cell_type": "code",
            "metadata": {},
            "execution_count": null,
            "source": "np.isscalar(False)",
            "outputs": [
                {
                    "output_type": "execute_result",
                    "metadata": {},
                    "data": {
                        "text/plain": "True"
                    },
                    "execution_count": null
                }
            ]
        },
        {
            "id": "ae0975c9",
            "cell_type": "code",
            "metadata": {},
            "execution_count": null,
            "source": "np.isscalar('numpy')",
            "outputs": [
                {
                    "output_type": "execute_result",
                    "metadata": {},
                    "data": {
                        "text/plain": "True"
                    },
                    "execution_count": null
                }
            ]
        },
        {
            "id": "e75c97f4",
            "cell_type": "markdown",
            "source": "NumPy supports PEP 3141 numbers:\n",
            "metadata": {}
        },
        {
            "id": "02258db4",
            "cell_type": "code",
            "metadata": {},
            "execution_count": null,
            "source": "from fractions import Fraction\nnp.isscalar(Fraction(5, 17))",
            "outputs": [
                {
                    "output_type": "execute_result",
                    "metadata": {},
                    "data": {
                        "text/plain": "True"
                    },
                    "execution_count": null
                }
            ]
        },
        {
            "id": "9666701d",
            "cell_type": "code",
            "metadata": {},
            "execution_count": null,
            "source": "from numbers import Number\nnp.isscalar(Number())",
            "outputs": [
                {
                    "output_type": "execute_result",
                    "metadata": {},
                    "data": {
                        "text/plain": "True"
                    },
                    "execution_count": null
                }
            ]
        }
    ]
}