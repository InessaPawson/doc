{
    "nbformat": 4,
    "nbformat_minor": 5,
    "metadata": {
        "kernelspec": {
            "display_name": "Python",
            "language": "python",
            "name": "python"
        },
        "language_info": {
            "name": "python"
        }
    },
    "cells": [
        {
            "id": "bc1d1e26",
            "cell_type": "markdown",
            "source": "<div class='alert alert-warning'>\n\nNumPy's interactive examples are experimental and may not always work as expected, with high load times especially on low-resource platforms, and the version of NumPy might not be in sync with the one you are browsing the documentation for. If you encounter any issues, please report them on the [NumPy issue tracker](https://github.com/numpy/numpy/issues).\n\n</div>",
            "metadata": {}
        },
        {
            "id": "a2682f37",
            "cell_type": "code",
            "metadata": {},
            "execution_count": null,
            "source": "import numpy as np\nA = np.asmatrix('1 1; 1 1')\nB = np.asmatrix('2 2; 2 2')\nC = np.asmatrix('3 4; 5 6')\nD = np.asmatrix('7 8; 9 0')",
            "outputs": []
        },
        {
            "id": "388f669a",
            "cell_type": "markdown",
            "source": "All the following expressions construct the same block matrix:\n",
            "metadata": {}
        },
        {
            "id": "ebd0eb69",
            "cell_type": "code",
            "metadata": {},
            "execution_count": null,
            "source": "np.bmat([[A, B], [C, D]])",
            "outputs": [
                {
                    "output_type": "execute_result",
                    "metadata": {},
                    "data": {
                        "text/plain": "matrix([[1, 1, 2, 2],\n        [1, 1, 2, 2],\n        [3, 4, 7, 8],\n        [5, 6, 9, 0]])"
                    },
                    "execution_count": null
                }
            ]
        },
        {
            "id": "79106b9d",
            "cell_type": "code",
            "metadata": {},
            "execution_count": null,
            "source": "np.bmat(np.r_[np.c_[A, B], np.c_[C, D]])",
            "outputs": [
                {
                    "output_type": "execute_result",
                    "metadata": {},
                    "data": {
                        "text/plain": "matrix([[1, 1, 2, 2],\n        [1, 1, 2, 2],\n        [3, 4, 7, 8],\n        [5, 6, 9, 0]])"
                    },
                    "execution_count": null
                }
            ]
        },
        {
            "id": "531af7c3",
            "cell_type": "code",
            "metadata": {},
            "execution_count": null,
            "source": "np.bmat('A,B; C,D')",
            "outputs": [
                {
                    "output_type": "execute_result",
                    "metadata": {},
                    "data": {
                        "text/plain": "matrix([[1, 1, 2, 2],\n        [1, 1, 2, 2],\n        [3, 4, 7, 8],\n        [5, 6, 9, 0]])"
                    },
                    "execution_count": null
                }
            ]
        }
    ]
}