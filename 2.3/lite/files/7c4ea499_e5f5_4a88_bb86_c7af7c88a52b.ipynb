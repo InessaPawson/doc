{
    "nbformat": 4,
    "nbformat_minor": 5,
    "metadata": {
        "kernelspec": {
            "display_name": "Python",
            "language": "python",
            "name": "python"
        },
        "language_info": {
            "name": "python"
        }
    },
    "cells": [
        {
            "id": "7fefa525",
            "cell_type": "markdown",
            "source": "<div class='alert alert-warning'>\n\nNumPy's interactive examples are experimental and may not always work as expected, with high load times especially on low-resource platforms, and the version of NumPy might not be in sync with the one you are browsing the documentation for. If you encounter any issues, please report them on the [NumPy issue tracker](https://github.com/numpy/numpy/issues).\n\n</div>",
            "metadata": {}
        },
        {
            "id": "37c8b575",
            "cell_type": "code",
            "metadata": {},
            "execution_count": null,
            "source": "import numpy as np\nnp.linalg._umath_linalg.det.signature",
            "outputs": [
                {
                    "output_type": "execute_result",
                    "metadata": {},
                    "data": {
                        "text/plain": "'(m,m)->()'"
                    },
                    "execution_count": null
                }
            ]
        },
        {
            "id": "850f9c0f",
            "cell_type": "code",
            "metadata": {},
            "execution_count": null,
            "source": "np.matmul.signature",
            "outputs": [
                {
                    "output_type": "execute_result",
                    "metadata": {},
                    "data": {
                        "text/plain": "'(n?,k),(k,m?)->(n?,m?)'"
                    },
                    "execution_count": null
                }
            ]
        },
        {
            "id": "52314837",
            "cell_type": "code",
            "metadata": {},
            "execution_count": null,
            "source": "np.add.signature is None",
            "outputs": [
                {
                    "output_type": "execute_result",
                    "metadata": {},
                    "data": {
                        "text/plain": "True  # equivalent to '(),()->()'"
                    },
                    "execution_count": null
                }
            ]
        }
    ]
}