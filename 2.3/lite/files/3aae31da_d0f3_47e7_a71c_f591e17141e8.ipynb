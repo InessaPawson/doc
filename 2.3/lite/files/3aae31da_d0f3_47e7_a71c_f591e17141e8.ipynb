{
    "nbformat": 4,
    "nbformat_minor": 5,
    "metadata": {
        "kernelspec": {
            "display_name": "Python",
            "language": "python",
            "name": "python"
        },
        "language_info": {
            "name": "python"
        }
    },
    "cells": [
        {
            "id": "0b3f358c",
            "cell_type": "markdown",
            "source": "<div class='alert alert-warning'>\n\nNumPy's interactive examples are experimental and may not always work as expected, with high load times especially on low-resource platforms, and the version of NumPy might not be in sync with the one you are browsing the documentation for. If you encounter any issues, please report them on the [NumPy issue tracker](https://github.com/numpy/numpy/issues).\n\n</div>",
            "metadata": {}
        },
        {
            "id": "5e4adff6",
            "cell_type": "markdown",
            "source": "With types:\n",
            "metadata": {}
        },
        {
            "id": "c8bb1c4c",
            "cell_type": "code",
            "metadata": {},
            "execution_count": null,
            "source": "import numpy as np\nii16 = np.iinfo(np.int16)\nii16.min",
            "outputs": [
                {
                    "output_type": "execute_result",
                    "metadata": {},
                    "data": {
                        "text/plain": "-32768"
                    },
                    "execution_count": null
                }
            ]
        },
        {
            "id": "5764b8ba",
            "cell_type": "code",
            "metadata": {},
            "execution_count": null,
            "source": "ii16.max",
            "outputs": [
                {
                    "output_type": "execute_result",
                    "metadata": {},
                    "data": {
                        "text/plain": "32767"
                    },
                    "execution_count": null
                }
            ]
        },
        {
            "id": "f3bdda5e",
            "cell_type": "code",
            "metadata": {},
            "execution_count": null,
            "source": "ii32 = np.iinfo(np.int32)\nii32.min",
            "outputs": [
                {
                    "output_type": "execute_result",
                    "metadata": {},
                    "data": {
                        "text/plain": "-2147483648"
                    },
                    "execution_count": null
                }
            ]
        },
        {
            "id": "4e6444fe",
            "cell_type": "code",
            "metadata": {},
            "execution_count": null,
            "source": "ii32.max",
            "outputs": [
                {
                    "output_type": "execute_result",
                    "metadata": {},
                    "data": {
                        "text/plain": "2147483647"
                    },
                    "execution_count": null
                }
            ]
        },
        {
            "id": "b3b6752d",
            "cell_type": "markdown",
            "source": "With instances:\n",
            "metadata": {}
        },
        {
            "id": "6bd4d4de",
            "cell_type": "code",
            "metadata": {},
            "execution_count": null,
            "source": "ii32 = np.iinfo(np.int32(10))\nii32.min",
            "outputs": [
                {
                    "output_type": "execute_result",
                    "metadata": {},
                    "data": {
                        "text/plain": "-2147483648"
                    },
                    "execution_count": null
                }
            ]
        },
        {
            "id": "8edaf0eb",
            "cell_type": "code",
            "metadata": {},
            "execution_count": null,
            "source": "ii32.max",
            "outputs": [
                {
                    "output_type": "execute_result",
                    "metadata": {},
                    "data": {
                        "text/plain": "2147483647"
                    },
                    "execution_count": null
                }
            ]
        }
    ]
}