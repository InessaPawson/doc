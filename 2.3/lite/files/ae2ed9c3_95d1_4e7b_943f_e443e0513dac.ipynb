{
    "nbformat": 4,
    "nbformat_minor": 5,
    "metadata": {
        "kernelspec": {
            "display_name": "Python",
            "language": "python",
            "name": "python"
        },
        "language_info": {
            "name": "python"
        }
    },
    "cells": [
        {
            "id": "41c79568",
            "cell_type": "markdown",
            "source": "<div class='alert alert-warning'>\n\nNumPy's interactive examples are experimental and may not always work as expected, with high load times especially on low-resource platforms, and the version of NumPy might not be in sync with the one you are browsing the documentation for. If you encounter any issues, please report them on the [NumPy issue tracker](https://github.com/numpy/numpy/issues).\n\n</div>",
            "metadata": {}
        },
        {
            "id": "668a4b7b",
            "cell_type": "code",
            "metadata": {},
            "execution_count": null,
            "source": "import numpy as np\na = np.array([[1, 2], [3, 4]])\nb = np.array([[5, 6]])\nnp.concatenate((a, b), axis=0)",
            "outputs": [
                {
                    "output_type": "execute_result",
                    "metadata": {},
                    "data": {
                        "text/plain": "array([[1, 2],\n       [3, 4],\n       [5, 6]])"
                    },
                    "execution_count": null
                }
            ]
        },
        {
            "id": "252a4ba0",
            "cell_type": "code",
            "metadata": {},
            "execution_count": null,
            "source": "np.concatenate((a, b.T), axis=1)",
            "outputs": [
                {
                    "output_type": "execute_result",
                    "metadata": {},
                    "data": {
                        "text/plain": "array([[1, 2, 5],\n       [3, 4, 6]])"
                    },
                    "execution_count": null
                }
            ]
        },
        {
            "id": "48e40e4f",
            "cell_type": "code",
            "metadata": {},
            "execution_count": null,
            "source": "np.concatenate((a, b), axis=None)",
            "outputs": [
                {
                    "output_type": "execute_result",
                    "metadata": {},
                    "data": {
                        "text/plain": "array([1, 2, 3, 4, 5, 6])"
                    },
                    "execution_count": null
                }
            ]
        },
        {
            "id": "4c93d490",
            "cell_type": "markdown",
            "source": "This function will not preserve masking of MaskedArray inputs.\n",
            "metadata": {}
        },
        {
            "id": "768bfdde",
            "cell_type": "code",
            "metadata": {},
            "execution_count": null,
            "source": "a = np.ma.arange(3)\na[1] = np.ma.masked\nb = np.arange(2, 5)\na",
            "outputs": [
                {
                    "output_type": "execute_result",
                    "metadata": {},
                    "data": {
                        "text/plain": "masked_array(data=[0, --, 2],\n             mask=[False,  True, False],\n       fill_value=999999)"
                    },
                    "execution_count": null
                }
            ]
        },
        {
            "id": "711a5c88",
            "cell_type": "code",
            "metadata": {},
            "execution_count": null,
            "source": "b",
            "outputs": [
                {
                    "output_type": "execute_result",
                    "metadata": {},
                    "data": {
                        "text/plain": "array([2, 3, 4])"
                    },
                    "execution_count": null
                }
            ]
        },
        {
            "id": "830380b2",
            "cell_type": "code",
            "metadata": {},
            "execution_count": null,
            "source": "np.concatenate([a, b])",
            "outputs": [
                {
                    "output_type": "execute_result",
                    "metadata": {},
                    "data": {
                        "text/plain": "masked_array(data=[0, 1, 2, 2, 3, 4],\n             mask=False,\n       fill_value=999999)"
                    },
                    "execution_count": null
                }
            ]
        },
        {
            "id": "e7bb3fc7",
            "cell_type": "code",
            "metadata": {},
            "execution_count": null,
            "source": "np.ma.concatenate([a, b])",
            "outputs": [
                {
                    "output_type": "execute_result",
                    "metadata": {},
                    "data": {
                        "text/plain": "masked_array(data=[0, --, 2, 2, 3, 4],\n             mask=[False,  True, False, False, False, False],\n       fill_value=999999)"
                    },
                    "execution_count": null
                }
            ]
        }
    ]
}