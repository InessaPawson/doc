{
    "nbformat": 4,
    "nbformat_minor": 5,
    "metadata": {
        "kernelspec": {
            "display_name": "Python",
            "language": "python",
            "name": "python"
        },
        "language_info": {
            "name": "python"
        }
    },
    "cells": [
        {
            "id": "448f0bab",
            "cell_type": "markdown",
            "source": "<div class='alert alert-warning'>\n\nNumPy's interactive examples are experimental and may not always work as expected, with high load times especially on low-resource platforms, and the version of NumPy might not be in sync with the one you are browsing the documentation for. If you encounter any issues, please report them on the [NumPy issue tracker](https://github.com/numpy/numpy/issues).\n\n</div>",
            "metadata": {}
        },
        {
            "id": "d34ab5f6",
            "cell_type": "code",
            "metadata": {},
            "execution_count": null,
            "source": "import numpy as np\n# First business day in October 2011 (not accounting for holidays)\nnp.busday_offset('2011-10', 0, roll='forward')",
            "outputs": [
                {
                    "output_type": "execute_result",
                    "metadata": {},
                    "data": {
                        "text/plain": "np.datetime64('2011-10-03')"
                    },
                    "execution_count": null
                }
            ]
        },
        {
            "id": "68d996cd",
            "cell_type": "code",
            "metadata": {},
            "execution_count": null,
            "source": "# Last business day in February 2012 (not accounting for holidays)\nnp.busday_offset('2012-03', -1, roll='forward')",
            "outputs": [
                {
                    "output_type": "execute_result",
                    "metadata": {},
                    "data": {
                        "text/plain": "np.datetime64('2012-02-29')"
                    },
                    "execution_count": null
                }
            ]
        },
        {
            "id": "73fc27fe",
            "cell_type": "code",
            "metadata": {},
            "execution_count": null,
            "source": "# Third Wednesday in January 2011\nnp.busday_offset('2011-01', 2, roll='forward', weekmask='Wed')",
            "outputs": [
                {
                    "output_type": "execute_result",
                    "metadata": {},
                    "data": {
                        "text/plain": "np.datetime64('2011-01-19')"
                    },
                    "execution_count": null
                }
            ]
        },
        {
            "id": "562c0a88",
            "cell_type": "code",
            "metadata": {},
            "execution_count": null,
            "source": "# 2012 Mother's Day in Canada and the U.S.\nnp.busday_offset('2012-05', 1, roll='forward', weekmask='Sun')",
            "outputs": [
                {
                    "output_type": "execute_result",
                    "metadata": {},
                    "data": {
                        "text/plain": "np.datetime64('2012-05-13')"
                    },
                    "execution_count": null
                }
            ]
        },
        {
            "id": "05317d2c",
            "cell_type": "code",
            "metadata": {},
            "execution_count": null,
            "source": "# First business day on or after a date\nnp.busday_offset('2011-03-20', 0, roll='forward')",
            "outputs": [
                {
                    "output_type": "execute_result",
                    "metadata": {},
                    "data": {
                        "text/plain": "np.datetime64('2011-03-21')"
                    },
                    "execution_count": null
                }
            ]
        },
        {
            "id": "3ade039b",
            "cell_type": "code",
            "metadata": {},
            "execution_count": null,
            "source": "np.busday_offset('2011-03-22', 0, roll='forward')",
            "outputs": [
                {
                    "output_type": "execute_result",
                    "metadata": {},
                    "data": {
                        "text/plain": "np.datetime64('2011-03-22')"
                    },
                    "execution_count": null
                }
            ]
        },
        {
            "id": "26caaaae",
            "cell_type": "code",
            "metadata": {},
            "execution_count": null,
            "source": "# First business day after a date\nnp.busday_offset('2011-03-20', 1, roll='backward')",
            "outputs": [
                {
                    "output_type": "execute_result",
                    "metadata": {},
                    "data": {
                        "text/plain": "np.datetime64('2011-03-21')"
                    },
                    "execution_count": null
                }
            ]
        },
        {
            "id": "a5b76c2b",
            "cell_type": "code",
            "metadata": {},
            "execution_count": null,
            "source": "np.busday_offset('2011-03-22', 1, roll='backward')",
            "outputs": [
                {
                    "output_type": "execute_result",
                    "metadata": {},
                    "data": {
                        "text/plain": "np.datetime64('2011-03-23')"
                    },
                    "execution_count": null
                }
            ]
        }
    ]
}