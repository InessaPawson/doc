{
    "nbformat": 4,
    "nbformat_minor": 5,
    "metadata": {
        "kernelspec": {
            "display_name": "Python",
            "language": "python",
            "name": "python"
        },
        "language_info": {
            "name": "python"
        }
    },
    "cells": [
        {
            "id": "627aca55",
            "cell_type": "markdown",
            "source": "<div class='alert alert-warning'>\n\nNumPy's interactive examples are experimental and may not always work as expected, with high load times especially on low-resource platforms, and the version of NumPy might not be in sync with the one you are browsing the documentation for. If you encounter any issues, please report them on the [NumPy issue tracker](https://github.com/numpy/numpy/issues).\n\n</div>",
            "metadata": {}
        },
        {
            "id": "b7a78f5b",
            "cell_type": "code",
            "metadata": {},
            "execution_count": null,
            "source": "import numpy as np\nx = np.array([-1.2, 1.2])\nnp.absolute(x)",
            "outputs": [
                {
                    "output_type": "execute_result",
                    "metadata": {},
                    "data": {
                        "text/plain": "array([ 1.2,  1.2])"
                    },
                    "execution_count": null
                }
            ]
        },
        {
            "id": "4ce256aa",
            "cell_type": "code",
            "metadata": {},
            "execution_count": null,
            "source": "np.absolute(1.2 + 1j)",
            "outputs": [
                {
                    "output_type": "execute_result",
                    "metadata": {},
                    "data": {
                        "text/plain": "1.5620499351813308"
                    },
                    "execution_count": null
                }
            ]
        },
        {
            "id": "0b337621",
            "cell_type": "markdown",
            "source": "Plot the function over ``[-10, 10]``:\n",
            "metadata": {}
        },
        {
            "id": "ac2080b2",
            "cell_type": "code",
            "metadata": {},
            "execution_count": null,
            "source": "import matplotlib.pyplot as plt",
            "outputs": []
        },
        {
            "id": "ef01ffed",
            "cell_type": "code",
            "metadata": {},
            "execution_count": null,
            "source": "x = np.linspace(start=-10, stop=10, num=101)\nplt.plot(x, np.absolute(x))\nplt.show()",
            "outputs": []
        },
        {
            "id": "5c8d5e5a",
            "cell_type": "markdown",
            "source": "Plot the function over the complex plane:\n",
            "metadata": {}
        },
        {
            "id": "0ddb73f1",
            "cell_type": "code",
            "metadata": {},
            "execution_count": null,
            "source": "xx = x + 1j * x[:, np.newaxis]\nplt.imshow(np.abs(xx), extent=[-10, 10, -10, 10], cmap='gray')\nplt.show()",
            "outputs": []
        },
        {
            "id": "955e1eb4",
            "cell_type": "markdown",
            "source": "The `abs` function can be used as a shorthand for ``np.absolute`` on\nndarrays.\n",
            "metadata": {}
        },
        {
            "id": "8fc6ebb5",
            "cell_type": "code",
            "metadata": {},
            "execution_count": null,
            "source": "x = np.array([-1.2, 1.2])\nabs(x)",
            "outputs": [
                {
                    "output_type": "execute_result",
                    "metadata": {},
                    "data": {
                        "text/plain": "array([1.2, 1.2])"
                    },
                    "execution_count": null
                }
            ]
        }
    ]
}